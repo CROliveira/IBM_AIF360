{
 "cells": [
  {
   "cell_type": "markdown",
   "metadata": {
    "toc": true
   },
   "source": [
    "<h1>Table of Contents<span class=\"tocSkip\"></span></h1>\n",
    "<div class=\"toc\"><ul class=\"toc-item\"><li><span><a href=\"#Predicting-German-Credit-Risk-(logit-regression&amp;xgboost)\" data-toc-modified-id=\"Predicting-German-Credit-Risk-(logit-regression&amp;xgboost)-1\"><span class=\"toc-item-num\">1&nbsp;&nbsp;</span>Predicting German Credit Risk (logit regression&amp;xgboost)</a></span><ul class=\"toc-item\"><li><span><a href=\"#content\" data-toc-modified-id=\"content-1.1\"><span class=\"toc-item-num\">1.1&nbsp;&nbsp;</span>content</a></span><ul class=\"toc-item\"><li><span><a href=\"#1.-statistical-discription\" data-toc-modified-id=\"1.-statistical-discription-1.1.1\"><span class=\"toc-item-num\">1.1.1&nbsp;&nbsp;</span>1. statistical discription</a></span><ul class=\"toc-item\"><li><span><a href=\"#1.1-data-loading\" data-toc-modified-id=\"1.1-data-loading-1.1.1.1\"><span class=\"toc-item-num\">1.1.1.1&nbsp;&nbsp;</span>1.1 data loading</a></span></li><li><span><a href=\"#1.2-know-more-about-the-data\" data-toc-modified-id=\"1.2-know-more-about-the-data-1.1.1.2\"><span class=\"toc-item-num\">1.1.1.2&nbsp;&nbsp;</span>1.2 know more about the data</a></span></li></ul></li><li><span><a href=\"#2.data-exploring\" data-toc-modified-id=\"2.data-exploring-1.1.2\"><span class=\"toc-item-num\">1.1.2&nbsp;&nbsp;</span>2.data exploring</a></span><ul class=\"toc-item\"><li><span><a href=\"#2.1-age-&amp;-housing\" data-toc-modified-id=\"2.1-age-&amp;-housing-1.1.2.1\"><span class=\"toc-item-num\">1.1.2.1&nbsp;&nbsp;</span>2.1 age &amp; housing</a></span></li><li><span><a href=\"#2.2-credit-amount-&amp;-duration\" data-toc-modified-id=\"2.2-credit-amount-&amp;-duration-1.1.2.2\"><span class=\"toc-item-num\">1.1.2.2&nbsp;&nbsp;</span>2.2 credit amount &amp; duration</a></span></li></ul></li><li><span><a href=\"#3.-data-processing\" data-toc-modified-id=\"3.-data-processing-1.1.3\"><span class=\"toc-item-num\">1.1.3&nbsp;&nbsp;</span>3. data processing</a></span></li><li><span><a href=\"#4.-modeling\" data-toc-modified-id=\"4.-modeling-1.1.4\"><span class=\"toc-item-num\">1.1.4&nbsp;&nbsp;</span>4. modeling</a></span><ul class=\"toc-item\"><li><span><a href=\"#4.1-split-data-by-group-sampling\" data-toc-modified-id=\"4.1-split-data-by-group-sampling-1.1.4.1\"><span class=\"toc-item-num\">1.1.4.1&nbsp;&nbsp;</span>4.1 split data by group sampling</a></span></li><li><span><a href=\"#4.2-logistic-regression\" data-toc-modified-id=\"4.2-logistic-regression-1.1.4.2\"><span class=\"toc-item-num\">1.1.4.2&nbsp;&nbsp;</span>4.2 logistic regression</a></span></li><li><span><a href=\"#4.3-logistic-regression\" data-toc-modified-id=\"4.3-logistic-regression-1.1.4.3\"><span class=\"toc-item-num\">1.1.4.3&nbsp;&nbsp;</span>4.3 logistic regression</a></span></li><li><span><a href=\"#4.4-results\" data-toc-modified-id=\"4.4-results-1.1.4.4\"><span class=\"toc-item-num\">1.1.4.4&nbsp;&nbsp;</span>4.4 results</a></span></li></ul></li></ul></li></ul></li></ul></div>"
   ]
  },
  {
   "cell_type": "markdown",
   "metadata": {},
   "source": [
    "# Predicting German Credit Risk (logit regression&xgboost)\n",
    "\n",
    "Created in R by Quinn126 for Kaggle\n",
    "\n",
    "[Source code](https://www.kaggle.com/quinn126/predicting-german-credit-risk-logit-reg-xgboost)"
   ]
  },
  {
   "cell_type": "markdown",
   "metadata": {},
   "source": [
    "## content\n",
    "1. statistical discription\n",
    "2. data exploring\n",
    "3. data processing\n",
    "4. modeling\n"
   ]
  },
  {
   "cell_type": "markdown",
   "metadata": {},
   "source": [
    "### 1. statistical discription\n",
    "#### 1.1 data loading     \n",
    "##### 1) Choose data with y-value from data set \"german_credit_data_with_risk\".\n",
    "##### 2) Then show the first six row of the table, remove the first column, which is the id of sample."
   ]
  },
  {
   "cell_type": "code",
   "execution_count": null,
   "metadata": {},
   "outputs": [],
   "source": [
    "####statistical discription####\n",
    "#1.1data loading\n",
    "dat = read.csv(\"../input/german-credit-data-with-risk/german_credit_data.csv\")\n",
    "\n",
    "head(dat)            #watch first 6 row of the data\n",
    "dat = dat[,-1]       #remove the first column"
   ]
  },
  {
   "cell_type": "markdown",
   "metadata": {},
   "source": [
    "#### 1.2 know more about the data\n",
    "\n",
    "##### 1) Use summary to know that there are four numerical variables, while others are all categorical variables.\n",
    "##### 2) 'checking.account' and 'saving.account' have missing values which take up 39.4% and 18.3%.\n",
    "##### 3) Noticing that y-value is unbalanced, so we msy need group sampling. \n",
    "##### 4) Next devide these samples by y-value.\n"
   ]
  },
  {
   "cell_type": "code",
   "execution_count": null,
   "metadata": {
    "_cell_guid": "79c7e3d0-c299-4dcb-8224-4455121ee9b0",
    "_uuid": "d629ff2d2480ee46fbb7e2d37f6b5fab8052498a"
   },
   "outputs": [],
   "source": [
    "#know more about the data\n",
    "#summary of the data\n",
    "summary(dat)\n",
    "\n",
    "#check the rate of missing values\n",
    "miss = function(x){sum(is.na(x))/length(x)*100}\n",
    "apply(dat,2,miss)\n",
    "\n",
    "#pay attention to the unbalanced y-value\n",
    "plot(dat[,10])\n",
    "\n",
    "#devide them by y-value\n",
    "good = dat[which(dat[,10]==\"good\"),]\n",
    "bad = dat[which(dat[,10]==\"bad\"),]"
   ]
  },
  {
   "cell_type": "markdown",
   "metadata": {},
   "source": [
    "### 2.data exploring\n",
    "#### 2.1 age & housing\n",
    "##### Draw histogram of age and housing respectively in t\"y-value good\", \"y-value bad\", \"all\"."
   ]
  },
  {
   "cell_type": "code",
   "execution_count": null,
   "metadata": {},
   "outputs": [],
   "source": [
    "####data exploring####\n",
    "# 2.1 age & housing\n",
    "#age\n",
    "#win.graph(width = 8,height = 2.5)\n",
    "par(mfrow=c(1,3))\n",
    "hist(good[,1],xlab=\"age\",ylab=\"\",main=\"\",ylim=c(0,160))\n",
    "hist(bad[,1],xlab=\"age\",ylab=\"\",main=\"\",ylim=c(0,160))\n",
    "hist(dat[,1],xlab=\"age\",ylab=\"\",main=\"\")\n",
    "\n",
    "#housing\n",
    "plot(good[,4],xlab=\"housing\",ylab=\"\",main=\"\",ylim=c(0,500))\n",
    "plot(bad[,4],xlab=\"housing\",ylab=\"\",main=\"\",ylim=c(0,500))\n",
    "plot(dat[,4],xlab=\"housing\",ylab=\"\",main=\"\")"
   ]
  },
  {
   "cell_type": "markdown",
   "metadata": {},
   "source": [
    "##### 1) The distribution diagrams of \"good\" and \"all\" groups are identical.\n",
    "##### 2) Variable \"age\" has right-skewed distribution.\n",
    "##### 3) People who own a house are more likely in \"good credit\" group. \n",
    "\n",
    "#### 2.2 credit amount & duration\n",
    "##### Draw scatter plot of them in \"y-value good\"(circle shape), \"y-value bad\"(cross shape)."
   ]
  },
  {
   "cell_type": "code",
   "execution_count": null,
   "metadata": {},
   "outputs": [],
   "source": [
    "#2.2 credit amount&duration\n",
    "plot(y=good[,7],x=good[,8],pch=1,\n",
    "     xlab=\"duration\",ylab=\"credit amount\",main=\"\")\n",
    "points(y=bad[,7],x=bad[,8],pch=3,\n",
    "     xlab=\"duration\",ylab=\"credit amount\",main=\"\")"
   ]
  },
  {
   "cell_type": "markdown",
   "metadata": {},
   "source": [
    "##### 1) In general, the number of short term loan is more than that of mid&long term loan, however the amount of the latter is more dispersed.\n",
    "##### 2) The defaults usually appears at a greater amount loan when the duration remains unchanged. Noticed that there is a gap between the top cross shape(s) and the following shapes in a column, it is clear that the shorter the duration, the greater the gap.\n",
    "### 3. data processing   \n",
    "##### Handle categorical variables: sex, housing, saving, checking, purpose and risk.\n",
    "##### Then make a correlation plot."
   ]
  },
  {
   "cell_type": "code",
   "execution_count": null,
   "metadata": {},
   "outputs": [],
   "source": [
    "####data processing####\n",
    "#handle categorical variables\n",
    "library(nnet)\n",
    "sex = class.ind(dat[,2]) \n",
    "housing = class.ind(dat[,4]) \n",
    "saving = class.ind(dat[,5])\n",
    "colnames(saving) = c(\"s_little\",\"s_moderate\",\"s_quite rich\",\"s_rich\")\n",
    "checking = class.ind(dat[,6]) \n",
    "colnames(checking) = c(\"c_little\",\"c_moderate\",\"c_rich\")\n",
    "purpose = class.ind(dat[,9]) \n",
    "risk = class.ind(dat[,10])\n",
    "\n",
    "#correlation plot\n",
    "datn = dat[,c(-2,-4,-5,-6,-9,-10)]\n",
    "newdat = cbind(datn,sex,housing,saving,checking,purpose,risk)\n",
    "mycor = cor(newdat)\n",
    "\n",
    "library(corrplot)\n",
    "par(mfrow = c(1,1))\n",
    "corrplot(mycor,tl.col=\"black\",method=\"color\",shade.lwd = 0.1,tl.cex=0.8,order=\"hclust\")"
   ]
  },
  {
   "cell_type": "markdown",
   "metadata": {},
   "source": [
    "##### From the plot above, it is clear that \"saving.account little\", \"checking.account little\", \"duration\", \"credit.amount\" have weak positive correlation to \"bad\".\n",
    "##### \"checking.account little\", \"duration\" have relatively strong positive correlation.\n",
    "### 4. modeling\n",
    "#### 4.1 split data by group sampling \n",
    "##### Choose 70% as sampling ratio."
   ]
  },
  {
   "cell_type": "code",
   "execution_count": null,
   "metadata": {},
   "outputs": [],
   "source": [
    "#4.1 split data by group sampling\n",
    "newdat = newdat[,-25]\n",
    "newdat = as.matrix(newdat[order(newdat$good), ])\n",
    "siz = c(300,700)\n",
    "n = round(0.7*siz)\n",
    "\n",
    "library(sampling)\n",
    "tr = strata(newdat, stratanames='good', size=n, method=\"srswor\")\n",
    "train = newdat[tr$ID_unit,] \n",
    "test = newdat[-tr$ID_unit,] \n",
    "xtr = train[,1:24]\n",
    "ytr = train[,25] \n",
    "xte = test[,1:24]\n",
    "yte = test[,25]\n",
    "\n",
    "#write.table(train, file =\"train data.csv\", sep =\",\")\n",
    "#write.table(test, file =\"test data.csv\", sep =\",\")\n"
   ]
  },
  {
   "cell_type": "markdown",
   "metadata": {},
   "source": [
    "#### 4.2 logistic regression\n",
    "##### Notice: the critical values are different in glm-fitted.values and predict results!"
   ]
  },
  {
   "cell_type": "code",
   "execution_count": null,
   "metadata": {},
   "outputs": [],
   "source": [
    "#4.2 logistic regression\n",
    "glm = glm(good~.,data=as.data.frame(train),family=binomial(\"logit\"))\n",
    "\n",
    "logit.step = step(glm, direction = c(\"both\"))\n",
    "\n",
    "glm1 = glm(good~s_little+c_little+c_moderate+Duration+female+own,\n",
    "           data=as.data.frame(train),family=binomial(\"logit\"))\n",
    "\n",
    "#computing classification rate in training set\n",
    "pyltr = glm1$fitted.values\n",
    "yltr = rep(0,length(pyltr))\n",
    "for(i in 1:length(pyltr)){\n",
    "  if(pyltr[i]<=0.5){yltr[i]=0}\n",
    "  else{yltr[i]=1}\n",
    "}\n",
    "train_result1 = table(yltr,ytr)\n",
    "rate1 = (train_result1[1,1]+train_result1[2,2])/sum(train_result1)\n",
    "\n",
    "#computing classification rate in testing set\n",
    "y_pred = predict(glm1, as.data.frame(xte))\n",
    "y_tran = rep(0,length(y_pred))\n",
    "for(i in 1:length(y_pred)){\n",
    "  if(y_pred[i]<=0){y_tran[i]=0}\n",
    "  else{y_tran[i]=1}\n",
    "}\n",
    "test_result1 = table(y_tran,yte)\n",
    "rate2 = (test_result1[1,1]+test_result1[2,2])/sum(test_result1)"
   ]
  },
  {
   "cell_type": "markdown",
   "metadata": {},
   "source": [
    "#### 4.3 logistic regression"
   ]
  },
  {
   "cell_type": "code",
   "execution_count": null,
   "metadata": {},
   "outputs": [],
   "source": [
    "####xgboost####\n",
    "\n",
    "library(xgboost)\n",
    "xgb = xgboost(data = xtr, \n",
    "               label = ytr, \n",
    "               eta = 0.1,\n",
    "               max_depth = 5, \n",
    "               gamma = 0,\n",
    "               objective = \"binary:logistic\",\n",
    "               nrounds = 15, \n",
    "               subsample = 0.8,\n",
    "               colsample_bytree = 0.8,\n",
    "               seed = 1,\n",
    "               eval_metric = \"error\"\n",
    ")\n",
    "\n",
    "#computing classification rate in training set\n",
    "y_pred = predict(xgb, xtr)\n",
    "y_train = rep(0,length(y_pred))\n",
    "for(i in 1:length(y_pred)){\n",
    "  if(y_pred[i]<=0.5){y_train[i]=0}\n",
    "  else{y_train[i]=1}\n",
    "}\n",
    "test_result3 = table(y_train,ytr)\n",
    "rate3 = (test_result3[1,1]+test_result3[2,2])/sum(test_result3)\n",
    "\n",
    "#computing classification rate in testing set\n",
    "y_pred = predict(xgb, xte)\n",
    "y_test = rep(0,length(y_pred))\n",
    "for(i in 1:length(y_pred)){\n",
    "  if(y_pred[i]<=0.5){y_test[i]=0}\n",
    "  else{y_test[i]=1}\n",
    "}\n",
    "test_result4 = table(y_test,yte)\n",
    "rate4 = (test_result4[1,1]+test_result4[2,2])/sum(test_result4)\n"
   ]
  },
  {
   "cell_type": "markdown",
   "metadata": {},
   "source": [
    "#### 4.4 results "
   ]
  },
  {
   "cell_type": "code",
   "execution_count": null,
   "metadata": {},
   "outputs": [],
   "source": [
    "paste(\"classification rate in training set via logit regression is\", round(rate1,2))\n",
    "paste(\"classification rate in testing set via logit regression is\", round(rate2,2))\n",
    "paste(\"classification rate in training set via xgboost is\", round(rate3,2))\n",
    "paste(\"classification rate in testing set via xgboost is\", round(rate4,2))"
   ]
  }
 ],
 "metadata": {
  "kernelspec": {
   "display_name": "R",
   "language": "R",
   "name": "ir"
  },
  "language_info": {
   "codemirror_mode": "r",
   "file_extension": ".r",
   "mimetype": "text/x-r-source",
   "name": "R",
   "pygments_lexer": "r",
   "version": "3.4.2"
  },
  "latex_envs": {
   "LaTeX_envs_menu_present": true,
   "autoclose": false,
   "autocomplete": true,
   "bibliofile": "biblio.bib",
   "cite_by": "apalike",
   "current_citInitial": 1,
   "eqLabelWithNumbers": true,
   "eqNumInitial": 1,
   "hotkeys": {
    "equation": "Ctrl-E",
    "itemize": "Ctrl-I"
   },
   "labels_anchors": false,
   "latex_user_defs": false,
   "report_style_numbering": false,
   "user_envs_cfg": false
  },
  "toc": {
   "base_numbering": 1,
   "nav_menu": {},
   "number_sections": true,
   "sideBar": true,
   "skip_h1_title": false,
   "title_cell": "Table of Contents",
   "title_sidebar": "Contents",
   "toc_cell": true,
   "toc_position": {},
   "toc_section_display": true,
   "toc_window_display": false
  }
 },
 "nbformat": 4,
 "nbformat_minor": 1
}
