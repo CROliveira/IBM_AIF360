{
 "cells": [
  {
   "cell_type": "markdown",
   "metadata": {
    "toc": true
   },
   "source": [
    "<h1>Table of Contents<span class=\"tocSkip\"></span></h1>\n",
    "<div class=\"toc\"><ul class=\"toc-item\"><li><span><a href=\"#Summary\" data-toc-modified-id=\"Summary-1\"><span class=\"toc-item-num\">1&nbsp;&nbsp;</span>Summary</a></span></li><li><span><a href=\"#Setting-up-the-environment\" data-toc-modified-id=\"Setting-up-the-environment-2\"><span class=\"toc-item-num\">2&nbsp;&nbsp;</span>Setting up the environment</a></span></li><li><span><a href=\"#Calling-Methods\" data-toc-modified-id=\"Calling-Methods-3\"><span class=\"toc-item-num\">3&nbsp;&nbsp;</span>Calling Methods</a></span></li><li><span><a href=\"#Loading-the-dataset\" data-toc-modified-id=\"Loading-the-dataset-4\"><span class=\"toc-item-num\">4&nbsp;&nbsp;</span>Loading the dataset</a></span></li><li><span><a href=\"#Data-Exploration\" data-toc-modified-id=\"Data-Exploration-5\"><span class=\"toc-item-num\">5&nbsp;&nbsp;</span>Data Exploration</a></span></li><li><span><a href=\"#Feature-Engineering-/-Preprocessing\" data-toc-modified-id=\"Feature-Engineering-/-Preprocessing-6\"><span class=\"toc-item-num\">6&nbsp;&nbsp;</span>Feature Engineering / Preprocessing</a></span><ul class=\"toc-item\"><li><span><a href=\"#Summary-Statistics\" data-toc-modified-id=\"Summary-Statistics-6.1\"><span class=\"toc-item-num\">6.1&nbsp;&nbsp;</span>Summary Statistics</a></span></li></ul></li><li><span><a href=\"#Discrepancy\" data-toc-modified-id=\"Discrepancy-7\"><span class=\"toc-item-num\">7&nbsp;&nbsp;</span>Discrepancy</a></span></li><li><span><a href=\"#Splitting-the-data-into-Train-and-Test-set\" data-toc-modified-id=\"Splitting-the-data-into-Train-and-Test-set-8\"><span class=\"toc-item-num\">8&nbsp;&nbsp;</span>Splitting the data into Train and Test set</a></span></li><li><span><a href=\"#Checking-Purity-level-of-nodes-using-Decision-Tree\" data-toc-modified-id=\"Checking-Purity-level-of-nodes-using-Decision-Tree-9\"><span class=\"toc-item-num\">9&nbsp;&nbsp;</span>Checking Purity level of nodes using Decision Tree</a></span><ul class=\"toc-item\"><li><span><a href=\"#Feature-Importance-for-future-pruning\" data-toc-modified-id=\"Feature-Importance-for-future-pruning-9.1\"><span class=\"toc-item-num\">9.1&nbsp;&nbsp;</span>Feature Importance for future pruning</a></span></li><li><span><a href=\"#Heat-map-stressing-correlation-analysis\" data-toc-modified-id=\"Heat-map-stressing-correlation-analysis-9.2\"><span class=\"toc-item-num\">9.2&nbsp;&nbsp;</span>Heat map stressing correlation analysis</a></span></li><li><span><a href=\"#Correlation-analysis-with-potentially-biased-variables-removed\" data-toc-modified-id=\"Correlation-analysis-with-potentially-biased-variables-removed-9.3\"><span class=\"toc-item-num\">9.3&nbsp;&nbsp;</span>Correlation analysis with potentially biased variables removed</a></span></li></ul></li><li><span><a href=\"#Feeding-the-dataset-into-ML-algorithms-and-Hyperparameter-tuning\" data-toc-modified-id=\"Feeding-the-dataset-into-ML-algorithms-and-Hyperparameter-tuning-10\"><span class=\"toc-item-num\">10&nbsp;&nbsp;</span>Feeding the dataset into ML algorithms and Hyperparameter tuning</a></span><ul class=\"toc-item\"><li><span><a href=\"#Linear-Regression-test\" data-toc-modified-id=\"Linear-Regression-test-10.1\"><span class=\"toc-item-num\">10.1&nbsp;&nbsp;</span>Linear Regression test</a></span></li><li><span><a href=\"#Bagging\" data-toc-modified-id=\"Bagging-10.2\"><span class=\"toc-item-num\">10.2&nbsp;&nbsp;</span>Bagging</a></span></li><li><span><a href=\"#Boosting\" data-toc-modified-id=\"Boosting-10.3\"><span class=\"toc-item-num\">10.3&nbsp;&nbsp;</span>Boosting</a></span></li><li><span><a href=\"#Neural-Networks\" data-toc-modified-id=\"Neural-Networks-10.4\"><span class=\"toc-item-num\">10.4&nbsp;&nbsp;</span>Neural Networks</a></span></li></ul></li><li><span><a href=\"#Removing-Potentially-Biased-Features\" data-toc-modified-id=\"Removing-Potentially-Biased-Features-11\"><span class=\"toc-item-num\">11&nbsp;&nbsp;</span>Removing Potentially Biased Features</a></span><ul class=\"toc-item\"><li><span><a href=\"#Linear-Regression-on-potentially-unbiased-dataset\" data-toc-modified-id=\"Linear-Regression-on-potentially-unbiased-dataset-11.1\"><span class=\"toc-item-num\">11.1&nbsp;&nbsp;</span>Linear Regression on potentially unbiased dataset</a></span></li><li><span><a href=\"#Bagging-on-potentially-unbiased-dataset\" data-toc-modified-id=\"Bagging-on-potentially-unbiased-dataset-11.2\"><span class=\"toc-item-num\">11.2&nbsp;&nbsp;</span>Bagging on potentially unbiased dataset</a></span></li><li><span><a href=\"#Boosting-Unbiased\" data-toc-modified-id=\"Boosting-Unbiased-11.3\"><span class=\"toc-item-num\">11.3&nbsp;&nbsp;</span>Boosting Unbiased</a></span></li><li><span><a href=\"#Neural-Networks-Unbiased\" data-toc-modified-id=\"Neural-Networks-Unbiased-11.4\"><span class=\"toc-item-num\">11.4&nbsp;&nbsp;</span>Neural Networks Unbiased</a></span></li></ul></li></ul></div>"
   ]
  },
  {
   "cell_type": "markdown",
   "metadata": {},
   "source": [
    "# Summary\n",
    "\n",
    "The purpose of this study is: \n",
    "\n",
    "    a) to stress the importance of Data Scientists when dealing with sensitive information such as the explanation of default in financial products to clients who believe were incorrectly denied to have a loan, mortgage, and other products;\n",
    "\n",
    "    b) to provide a reasonable explanation based on socioeconomic activity, historical relationship, and financial health analysis;\n",
    "\n",
    "    c) we compare human analysis versus IBM automated processes through AI Fairness 360 platform.\n",
    "\n",
    "We are going to see how the transformed dataset impacts the accuracy and fairness of a trained model. I highly encourage readers to view the documentation to understand the variables and the encoding criteria used for this comparison. \n",
    "\n",
    "There are many metrics one can use to detect the presence of bias. Likewise, there are many different bias mitigation algorithms one can employ, many of which of my knowledge but not the focus on this study due to the simplicity of the requested German dataset.\n",
    "\n",
    "As mentioned earlier, both fairness metrics and mitigation algorithms can be performed at various stages of the machine learning pipeline. We recommend checking for bias as often as possible, using as many metrics are relevant for the application domain. We also recommend incorporating bias detection in an automated continuous integration pipeline to ensure bias awareness as a software project evolves."
   ]
  },
  {
   "cell_type": "markdown",
   "metadata": {},
   "source": [
    "# Setting up the environment \n"
   ]
  },
  {
   "cell_type": "code",
   "execution_count": 1,
   "metadata": {
    "ExecuteTime": {
     "end_time": "2020-06-01T00:51:03.169889Z",
     "start_time": "2020-06-01T00:51:01.728697Z"
    }
   },
   "outputs": [
    {
     "name": "stdout",
     "output_type": "stream",
     "text": [
      "3.7.3 (default, Mar 27 2019, 16:54:48) \n",
      "[Clang 4.0.1 (tags/RELEASE_401/final)]\n",
      "This kernel has  4 cores and memory usage of: svmem(total=8589934592, available=3047927808, percent=64.5, used=4302725120, free=158494720, active=2699907072, inactive=2549620736, wired=1602818048)\n"
     ]
    }
   ],
   "source": [
    "# Settings\n",
    "# !pip install jupyter_contrib_nbextensions\n",
    "# !pip install aif360\n",
    "\n",
    "import os\n",
    "import pandas as pd\n",
    "import psutil\n",
    "import multiprocessing as mp\n",
    "\n",
    "# Display python version and operational system-specif parameters \n",
    "import sys\n",
    "print(sys.version)\n",
    "\n",
    "# Check the number of cores and memory usage\n",
    "num_cores = mp.cpu_count()\n",
    "print(\"This kernel has \",num_cores,\"cores and memory usage of:\",psutil.virtual_memory())\n",
    "\n",
    "# # Check Dask and Hosting the diagnostics dashboard\n",
    "# cluster = LocalCluster()\n",
    "# client = Client(cluster)\n",
    "# client\n",
    "\n",
    "# Expands the visualization of a matrix\n",
    "pd.set_option(\"display.max_columns\", 30)\n",
    "pd.set_option(\"display.max_rows\", 300)"
   ]
  },
  {
   "cell_type": "markdown",
   "metadata": {
    "ExecuteTime": {
     "end_time": "2020-05-30T22:44:39.918572Z",
     "start_time": "2020-05-30T22:44:39.913566Z"
    }
   },
   "source": [
    "# Calling Methods "
   ]
  },
  {
   "cell_type": "code",
   "execution_count": 2,
   "metadata": {
    "ExecuteTime": {
     "end_time": "2020-06-01T00:51:13.142791Z",
     "start_time": "2020-06-01T00:51:03.175436Z"
    }
   },
   "outputs": [
    {
     "name": "stderr",
     "output_type": "stream",
     "text": [
      "/Users/speedy/anaconda3/lib/python3.7/site-packages/statsmodels/tools/_testing.py:19: FutureWarning: pandas.util.testing is deprecated. Use the functions in the public API at pandas.testing instead.\n",
      "  import pandas.util.testing as tm\n",
      "Using TensorFlow backend.\n"
     ]
    }
   ],
   "source": [
    "# Load all necessary packages\n",
    "import sys\n",
    "sys.path.insert(1, \"../\")  \n",
    "\n",
    "import numpy as np\n",
    "np.random.seed(0)\n",
    "import seaborn as sns\n",
    "import matplotlib.pyplot as plt\n",
    "import scikitplot as skplt\n",
    "\n",
    "from sklearn.svm import SVC\n",
    "from sklearn.preprocessing import StandardScaler\n",
    "from sklearn.neighbors import KNeighborsClassifier\n",
    "from sklearn.ensemble import RandomForestClassifier, BaggingClassifier, AdaBoostClassifier, GradientBoostingClassifier\n",
    "from sklearn.ensemble import RandomForestRegressor, ExtraTreesClassifier\n",
    "from sklearn.linear_model import LogisticRegression, LinearRegression, RidgeClassifier, Ridge, Lasso\n",
    "from sklearn.naive_bayes import GaussianNB, BernoulliNB\n",
    "from sklearn.tree import DecisionTreeClassifier\n",
    "from sklearn.metrics import confusion_matrix, classification_report, accuracy_score, mean_squared_error, r2_score, f1_score\n",
    "from sklearn.model_selection import cross_val_score, StratifiedKFold, GridSearchCV\n",
    "\n",
    "from mlxtend.classifier import EnsembleVoteClassifier\n",
    "from mlxtend.regressor import StackingCVRegressor\n",
    "from lightgbm import LGBMRegressor\n",
    "\n",
    "from keras.models import Sequential\n",
    "from keras.layers import Dense\n",
    "from keras.wrappers.scikit_learn import KerasClassifier\n"
   ]
  },
  {
   "cell_type": "markdown",
   "metadata": {},
   "source": [
    "# Loading the dataset"
   ]
  },
  {
   "cell_type": "code",
   "execution_count": 3,
   "metadata": {
    "ExecuteTime": {
     "end_time": "2020-06-01T00:51:13.178970Z",
     "start_time": "2020-06-01T00:51:13.147477Z"
    }
   },
   "outputs": [],
   "source": [
    "# Data path\n",
    "data_path = \"https://archive.ics.uci.edu/ml/machine-learning-databases/statlog/german/german.data\"\n",
    "german_numeric_path = \"https://archive.ics.uci.edu/ml/machine-learning-databases/statlog/german/german.data-numeric\"\n",
    "# german_data.to_csv(\"mydata.csv\", index=False, header=False)\n",
    "# german_data.info()"
   ]
  },
  {
   "cell_type": "code",
   "execution_count": 4,
   "metadata": {
    "ExecuteTime": {
     "end_time": "2020-06-01T00:51:13.196189Z",
     "start_time": "2020-06-01T00:51:13.186289Z"
    }
   },
   "outputs": [],
   "source": [
    "def open_data(data):\n",
    "    '''\n",
    "    This function does as follows:\n",
    "    1. Reads the german.data file from the web as a Pandas Dataframe, \n",
    "    2. Inserts a column names according to german.data documentation as a header,\n",
    "    3. Splits the data from one column to 21 columns,\n",
    "    4. Returns the data\n",
    "    \n",
    "    '''\n",
    "    names = [\"Financial\", \"Duration\", \"History\", \"Purpose\", \"Amount\", \"Bond\", \"Employment\", \n",
    "               \"Installments\", \"Gender\", \"Guarantors\", \"Residence\", \"Property\", \"Age\", \"Installments2\",\n",
    "               \"Housing\", \"Products\", \"Job\", \"Liabler\", \"Telephone\", \"Foreign\", \"Default\"]\n",
    "    data = pd.read_csv(data_path,names = names, delimiter=' ')\n",
    "    return data\n"
   ]
  },
  {
   "cell_type": "code",
   "execution_count": 5,
   "metadata": {
    "ExecuteTime": {
     "end_time": "2020-06-01T00:51:14.061722Z",
     "start_time": "2020-06-01T00:51:13.200385Z"
    }
   },
   "outputs": [
    {
     "data": {
      "text/html": [
       "<div>\n",
       "<style scoped>\n",
       "    .dataframe tbody tr th:only-of-type {\n",
       "        vertical-align: middle;\n",
       "    }\n",
       "\n",
       "    .dataframe tbody tr th {\n",
       "        vertical-align: top;\n",
       "    }\n",
       "\n",
       "    .dataframe thead th {\n",
       "        text-align: right;\n",
       "    }\n",
       "</style>\n",
       "<table border=\"1\" class=\"dataframe\">\n",
       "  <thead>\n",
       "    <tr style=\"text-align: right;\">\n",
       "      <th></th>\n",
       "      <th>Financial</th>\n",
       "      <th>Duration</th>\n",
       "      <th>History</th>\n",
       "      <th>Purpose</th>\n",
       "      <th>Amount</th>\n",
       "      <th>Bond</th>\n",
       "      <th>Employment</th>\n",
       "      <th>Installments</th>\n",
       "      <th>Gender</th>\n",
       "      <th>Guarantors</th>\n",
       "      <th>Residence</th>\n",
       "      <th>Property</th>\n",
       "      <th>Age</th>\n",
       "      <th>Installments2</th>\n",
       "      <th>Housing</th>\n",
       "      <th>Products</th>\n",
       "      <th>Job</th>\n",
       "      <th>Liabler</th>\n",
       "      <th>Telephone</th>\n",
       "      <th>Foreign</th>\n",
       "      <th>Default</th>\n",
       "    </tr>\n",
       "  </thead>\n",
       "  <tbody>\n",
       "    <tr>\n",
       "      <th>0</th>\n",
       "      <td>A11</td>\n",
       "      <td>6</td>\n",
       "      <td>A34</td>\n",
       "      <td>A43</td>\n",
       "      <td>1169</td>\n",
       "      <td>A65</td>\n",
       "      <td>A75</td>\n",
       "      <td>4</td>\n",
       "      <td>A93</td>\n",
       "      <td>A101</td>\n",
       "      <td>4</td>\n",
       "      <td>A121</td>\n",
       "      <td>67</td>\n",
       "      <td>A143</td>\n",
       "      <td>A152</td>\n",
       "      <td>2</td>\n",
       "      <td>A173</td>\n",
       "      <td>1</td>\n",
       "      <td>A192</td>\n",
       "      <td>A201</td>\n",
       "      <td>1</td>\n",
       "    </tr>\n",
       "    <tr>\n",
       "      <th>1</th>\n",
       "      <td>A12</td>\n",
       "      <td>48</td>\n",
       "      <td>A32</td>\n",
       "      <td>A43</td>\n",
       "      <td>5951</td>\n",
       "      <td>A61</td>\n",
       "      <td>A73</td>\n",
       "      <td>2</td>\n",
       "      <td>A92</td>\n",
       "      <td>A101</td>\n",
       "      <td>2</td>\n",
       "      <td>A121</td>\n",
       "      <td>22</td>\n",
       "      <td>A143</td>\n",
       "      <td>A152</td>\n",
       "      <td>1</td>\n",
       "      <td>A173</td>\n",
       "      <td>1</td>\n",
       "      <td>A191</td>\n",
       "      <td>A201</td>\n",
       "      <td>2</td>\n",
       "    </tr>\n",
       "  </tbody>\n",
       "</table>\n",
       "</div>"
      ],
      "text/plain": [
       "  Financial  Duration History Purpose  Amount Bond Employment  Installments  \\\n",
       "0       A11         6     A34     A43    1169  A65        A75             4   \n",
       "1       A12        48     A32     A43    5951  A61        A73             2   \n",
       "\n",
       "  Gender Guarantors  Residence Property  Age Installments2 Housing  Products  \\\n",
       "0    A93       A101          4     A121   67          A143    A152         2   \n",
       "1    A92       A101          2     A121   22          A143    A152         1   \n",
       "\n",
       "    Job  Liabler Telephone Foreign  Default  \n",
       "0  A173        1      A192    A201        1  \n",
       "1  A173        1      A191    A201        2  "
      ]
     },
     "execution_count": 5,
     "metadata": {},
     "output_type": "execute_result"
    }
   ],
   "source": [
    "# Calling open_data function \n",
    "german_data = open_data(\"https://archive.ics.uci.edu/ml/machine-learning-databases/statlog/german/german.data\")\n",
    "german_data.head(2)"
   ]
  },
  {
   "cell_type": "markdown",
   "metadata": {},
   "source": [
    "# Data Exploration"
   ]
  },
  {
   "cell_type": "markdown",
   "metadata": {},
   "source": [
    "The German dataset seems to force a bias to occur. This statement is proved after carefull analysis of the original variable creation, for example:\n",
    "\n",
    "        a) Gender and Civil Status are stored together, giving priority to male subjects as for females there is no category for married or widowed. They share this category with divorced and separated what according to Canadian standards of impartiality would not be acceptable. We tried to solve this separating this variables into Gender, and Civil (status);\n",
    "        \n",
    "        b) Job has non-residents classified as unemployed or unskilled, different than residents that only has unskilled as well the ambiguous official and officer classification together with skilled or highly qualified employee. We tried to solve the discrepancy by dividing this category into Job and Resident.\n",
    "        \n",
    "There were also other bias imputation Bond, Credit purpose, Installments, Credit history, Guarantors, Foreign workers that were not separated in different classification groups as they need some more reflection and information to base the displacement criteria."
   ]
  },
  {
   "cell_type": "code",
   "execution_count": 6,
   "metadata": {
    "ExecuteTime": {
     "end_time": "2020-06-01T00:51:14.084417Z",
     "start_time": "2020-06-01T00:51:14.065435Z"
    }
   },
   "outputs": [
    {
     "name": "stdout",
     "output_type": "stream",
     "text": [
      "<class 'pandas.core.frame.DataFrame'>\n",
      "RangeIndex: 1000 entries, 0 to 999\n",
      "Data columns (total 21 columns):\n",
      " #   Column         Non-Null Count  Dtype \n",
      "---  ------         --------------  ----- \n",
      " 0   Financial      1000 non-null   object\n",
      " 1   Duration       1000 non-null   int64 \n",
      " 2   History        1000 non-null   object\n",
      " 3   Purpose        1000 non-null   object\n",
      " 4   Amount         1000 non-null   int64 \n",
      " 5   Bond           1000 non-null   object\n",
      " 6   Employment     1000 non-null   object\n",
      " 7   Installments   1000 non-null   int64 \n",
      " 8   Gender         1000 non-null   object\n",
      " 9   Guarantors     1000 non-null   object\n",
      " 10  Residence      1000 non-null   int64 \n",
      " 11  Property       1000 non-null   object\n",
      " 12  Age            1000 non-null   int64 \n",
      " 13  Installments2  1000 non-null   object\n",
      " 14  Housing        1000 non-null   object\n",
      " 15  Products       1000 non-null   int64 \n",
      " 16  Job            1000 non-null   object\n",
      " 17  Liabler        1000 non-null   int64 \n",
      " 18  Telephone      1000 non-null   object\n",
      " 19  Foreign        1000 non-null   object\n",
      " 20  Default        1000 non-null   int64 \n",
      "dtypes: int64(8), object(13)\n",
      "memory usage: 164.2+ KB\n"
     ]
    }
   ],
   "source": [
    "german_data.info()"
   ]
  },
  {
   "cell_type": "code",
   "execution_count": 7,
   "metadata": {
    "ExecuteTime": {
     "end_time": "2020-06-01T00:51:14.095665Z",
     "start_time": "2020-06-01T00:51:14.088587Z"
    }
   },
   "outputs": [
    {
     "data": {
      "text/plain": [
       "(1000, 21)"
      ]
     },
     "execution_count": 7,
     "metadata": {},
     "output_type": "execute_result"
    }
   ],
   "source": [
    "# Dimensions check\n",
    "german_data.shape"
   ]
  },
  {
   "cell_type": "code",
   "execution_count": 8,
   "metadata": {
    "ExecuteTime": {
     "end_time": "2020-06-01T00:51:14.109982Z",
     "start_time": "2020-06-01T00:51:14.102490Z"
    }
   },
   "outputs": [
    {
     "data": {
      "text/plain": [
       "Index(['Financial', 'Duration', 'History', 'Purpose', 'Amount', 'Bond',\n",
       "       'Employment', 'Installments', 'Gender', 'Guarantors', 'Residence',\n",
       "       'Property', 'Age', 'Installments2', 'Housing', 'Products', 'Job',\n",
       "       'Liabler', 'Telephone', 'Foreign', 'Default'],\n",
       "      dtype='object')"
      ]
     },
     "execution_count": 8,
     "metadata": {},
     "output_type": "execute_result"
    }
   ],
   "source": [
    "german_data.columns"
   ]
  },
  {
   "cell_type": "markdown",
   "metadata": {},
   "source": [
    "# Feature Engineering / Preprocessing "
   ]
  },
  {
   "cell_type": "markdown",
   "metadata": {},
   "source": [
    "We are consenting to transform the whole data set to continuous variables and making this a supervised classification problem. Thus, it is not considered outlier detection, clustering analysis, dimensionality reduction techniques such as Principal Component Analysis, Pearson correlation, etc."
   ]
  },
  {
   "cell_type": "code",
   "execution_count": 9,
   "metadata": {
    "ExecuteTime": {
     "end_time": "2020-06-01T00:51:14.140566Z",
     "start_time": "2020-06-01T00:51:14.115076Z"
    }
   },
   "outputs": [],
   "source": [
    "#  Transforming features to continuous values using a dictionary\n",
    "def encoder(german_data):\n",
    "    '''\n",
    "    This function converts numerical values previously stored as type object to int64;\n",
    "    This function also encodes observations to a respective integer (the greater the better);\n",
    "    Returns a transformed dataset\n",
    "    '''\n",
    "    Financial={\"A11\":1,\"A12\":2,\"A13\":3,\"A14\":0}\n",
    "    german_data.Financial=german_data.Financial.apply(lambda x: Financial[x])\n",
    "\n",
    "    german_data[\"Duration\"] = german_data[\"Duration\"].astype(int)\n",
    "\n",
    "    History={\"A30\":3,\"A31\":3,\"A32\":2,\"A33\":1, \"A34\":0}\n",
    "    german_data.History=german_data.History.apply(lambda x: History[x])\n",
    "\n",
    "    Purpose={\"A40\":1,\"A41\":2,\"A42\":3,\"A43\":4, \"A44\":5, \"A45\":6,\"A46\":7,\"A47\":8,\"A48\":9, \"A49\":10, \"A410\":11}\n",
    "    german_data.Purpose=german_data.Purpose.apply(lambda x: Purpose[x])\n",
    "\n",
    "    german_data[\"Amount\"] = german_data[\"Amount\"].astype(int)\n",
    "\n",
    "    Bond={\"A61\":1,\"A62\":2,\"A63\":3, \"A64\":4, \"A65\":0}\n",
    "    german_data.Bond=german_data.Bond.apply(lambda x: Bond[x])\n",
    "\n",
    "    Employment={\"A71\":0,\"A72\":1,\"A73\":2, \"A74\":3, \"A75\":4}\n",
    "    german_data.Employment=german_data.Employment.apply(lambda x: Employment[x])\n",
    "\n",
    "    german_data[\"Installments\"] = (german_data[\"Installments\"].astype(int))\n",
    "\n",
    "    Gender={\"A91\":1,\"A92\":0,\"A93\":1, \"A94\":1, \"A95\":0}\n",
    "    Civil={\"A91\":3,\"A92\":2,\"A93\":1, \"A94\":2, \"A95\":1}\n",
    "    german_data[\"Civil\"] = german_data.Gender.apply(lambda x: Civil[x])\n",
    "    german_data.Gender=german_data.Gender.apply(lambda x: Gender[x])\n",
    "\n",
    "    Guarantors={\"A101\":1,\"A102\":0,\"A103\":2}\n",
    "    german_data.Guarantors=german_data.Guarantors.apply(lambda x: Guarantors[x])\n",
    "\n",
    "    german_data[\"Residence\"] = german_data[\"Residence\"].astype(int)\n",
    "\n",
    "    Property={\"A121\":3,\"A122\":2,\"A123\":1, \"A124\":0}\n",
    "    german_data.Property=german_data.Property.apply(lambda x: Property[x])\n",
    "\n",
    "    german_data[\"Age\"] = german_data[\"Age\"].astype(int)\n",
    "\n",
    "    Installments2={\"A141\":1,\"A142\":2,\"A143\":0}\n",
    "    german_data.Installments2=german_data.Installments2.apply(lambda x: Installments2[x])\n",
    "\n",
    "    Housing={\"A151\":1,\"A152\":2,\"A153\":0}\n",
    "    german_data.Housing=german_data.Housing.apply(lambda x: Housing[x])\n",
    "\n",
    "    german_data[\"Products\"] = german_data[\"Products\"].astype(int)\n",
    "\n",
    "    Job={\"A171\":0,\"A172\":0,\"A173\":1, \"A174\":2}\n",
    "    Resident={\"A171\":0,\"A172\":1,\"A173\":1, \"A174\":1}\n",
    "    german_data[\"Resident\"] = german_data.Job.apply(lambda x: Resident[x])\n",
    "    german_data.Job=german_data.Job.apply(lambda x: Job[x])\n",
    "\n",
    "    german_data[\"Liabler\"] = german_data[\"Liabler\"].astype(int)\n",
    "\n",
    "    Telephone={\"A191\":0,\"A192\":1}\n",
    "    german_data.Telephone=german_data.Telephone.apply(lambda x: Telephone[x])\n",
    "\n",
    "    Foreign={\"A201\":0,\"A202\":1}\n",
    "    german_data.Foreign=german_data.Foreign.apply(lambda x: Foreign[x])\n",
    "\n",
    "    german_data[\"Default\"] = german_data[\"Default\"].astype(int)\n",
    "    \n",
    "    return german_data\n"
   ]
  },
  {
   "cell_type": "code",
   "execution_count": 10,
   "metadata": {
    "ExecuteTime": {
     "end_time": "2020-06-01T00:51:14.189584Z",
     "start_time": "2020-06-01T00:51:14.147459Z"
    }
   },
   "outputs": [],
   "source": [
    "# Calling encoder function and storing it in a variable\n",
    "german_data = encoder(german_data)"
   ]
  },
  {
   "cell_type": "code",
   "execution_count": null,
   "metadata": {},
   "outputs": [],
   "source": []
  },
  {
   "cell_type": "markdown",
   "metadata": {},
   "source": [
    "## Summary Statistics"
   ]
  },
  {
   "cell_type": "code",
   "execution_count": 11,
   "metadata": {
    "ExecuteTime": {
     "end_time": "2020-06-01T00:51:14.338589Z",
     "start_time": "2020-06-01T00:51:14.193002Z"
    }
   },
   "outputs": [
    {
     "data": {
      "text/html": [
       "<div>\n",
       "<style scoped>\n",
       "    .dataframe tbody tr th:only-of-type {\n",
       "        vertical-align: middle;\n",
       "    }\n",
       "\n",
       "    .dataframe tbody tr th {\n",
       "        vertical-align: top;\n",
       "    }\n",
       "\n",
       "    .dataframe thead th {\n",
       "        text-align: right;\n",
       "    }\n",
       "</style>\n",
       "<table border=\"1\" class=\"dataframe\">\n",
       "  <thead>\n",
       "    <tr style=\"text-align: right;\">\n",
       "      <th></th>\n",
       "      <th>Financial</th>\n",
       "      <th>Duration</th>\n",
       "      <th>History</th>\n",
       "      <th>Purpose</th>\n",
       "      <th>Amount</th>\n",
       "      <th>Bond</th>\n",
       "      <th>Employment</th>\n",
       "      <th>Installments</th>\n",
       "      <th>Gender</th>\n",
       "      <th>Guarantors</th>\n",
       "      <th>Residence</th>\n",
       "      <th>Property</th>\n",
       "      <th>Age</th>\n",
       "      <th>Installments2</th>\n",
       "      <th>Housing</th>\n",
       "      <th>Products</th>\n",
       "      <th>Job</th>\n",
       "      <th>Liabler</th>\n",
       "      <th>Telephone</th>\n",
       "      <th>Foreign</th>\n",
       "      <th>Default</th>\n",
       "      <th>Civil</th>\n",
       "      <th>Resident</th>\n",
       "    </tr>\n",
       "  </thead>\n",
       "  <tbody>\n",
       "    <tr>\n",
       "      <th>count</th>\n",
       "      <td>1000.000000</td>\n",
       "      <td>1000.000000</td>\n",
       "      <td>1000.000000</td>\n",
       "      <td>1000.000000</td>\n",
       "      <td>1000.000000</td>\n",
       "      <td>1000.000000</td>\n",
       "      <td>1000.000000</td>\n",
       "      <td>1000.000000</td>\n",
       "      <td>1000.000000</td>\n",
       "      <td>1000.000000</td>\n",
       "      <td>1000.000000</td>\n",
       "      <td>1000.000000</td>\n",
       "      <td>1000.000000</td>\n",
       "      <td>1000.000000</td>\n",
       "      <td>1000.000000</td>\n",
       "      <td>1000.000000</td>\n",
       "      <td>1000.00000</td>\n",
       "      <td>1000.000000</td>\n",
       "      <td>1000.000000</td>\n",
       "      <td>1000.000000</td>\n",
       "      <td>1000.000000</td>\n",
       "      <td>1000.000000</td>\n",
       "      <td>1000.000000</td>\n",
       "    </tr>\n",
       "    <tr>\n",
       "      <th>mean</th>\n",
       "      <td>1.001000</td>\n",
       "      <td>20.903000</td>\n",
       "      <td>1.415000</td>\n",
       "      <td>3.828000</td>\n",
       "      <td>3271.258000</td>\n",
       "      <td>1.190000</td>\n",
       "      <td>2.384000</td>\n",
       "      <td>2.973000</td>\n",
       "      <td>0.690000</td>\n",
       "      <td>1.011000</td>\n",
       "      <td>2.845000</td>\n",
       "      <td>1.642000</td>\n",
       "      <td>35.546000</td>\n",
       "      <td>0.233000</td>\n",
       "      <td>1.605000</td>\n",
       "      <td>1.407000</td>\n",
       "      <td>0.92600</td>\n",
       "      <td>1.155000</td>\n",
       "      <td>0.404000</td>\n",
       "      <td>0.037000</td>\n",
       "      <td>1.300000</td>\n",
       "      <td>1.502000</td>\n",
       "      <td>0.978000</td>\n",
       "    </tr>\n",
       "    <tr>\n",
       "      <th>std</th>\n",
       "      <td>0.957034</td>\n",
       "      <td>12.058814</td>\n",
       "      <td>1.003884</td>\n",
       "      <td>2.744439</td>\n",
       "      <td>2822.736876</td>\n",
       "      <td>0.966869</td>\n",
       "      <td>1.208306</td>\n",
       "      <td>1.118715</td>\n",
       "      <td>0.462725</td>\n",
       "      <td>0.304913</td>\n",
       "      <td>1.103718</td>\n",
       "      <td>1.050209</td>\n",
       "      <td>11.375469</td>\n",
       "      <td>0.522479</td>\n",
       "      <td>0.674856</td>\n",
       "      <td>0.577654</td>\n",
       "      <td>0.60406</td>\n",
       "      <td>0.362086</td>\n",
       "      <td>0.490943</td>\n",
       "      <td>0.188856</td>\n",
       "      <td>0.458487</td>\n",
       "      <td>0.591901</td>\n",
       "      <td>0.146757</td>\n",
       "    </tr>\n",
       "    <tr>\n",
       "      <th>min</th>\n",
       "      <td>0.000000</td>\n",
       "      <td>4.000000</td>\n",
       "      <td>0.000000</td>\n",
       "      <td>1.000000</td>\n",
       "      <td>250.000000</td>\n",
       "      <td>0.000000</td>\n",
       "      <td>0.000000</td>\n",
       "      <td>1.000000</td>\n",
       "      <td>0.000000</td>\n",
       "      <td>0.000000</td>\n",
       "      <td>1.000000</td>\n",
       "      <td>0.000000</td>\n",
       "      <td>19.000000</td>\n",
       "      <td>0.000000</td>\n",
       "      <td>0.000000</td>\n",
       "      <td>1.000000</td>\n",
       "      <td>0.00000</td>\n",
       "      <td>1.000000</td>\n",
       "      <td>0.000000</td>\n",
       "      <td>0.000000</td>\n",
       "      <td>1.000000</td>\n",
       "      <td>1.000000</td>\n",
       "      <td>0.000000</td>\n",
       "    </tr>\n",
       "    <tr>\n",
       "      <th>25%</th>\n",
       "      <td>0.000000</td>\n",
       "      <td>12.000000</td>\n",
       "      <td>0.000000</td>\n",
       "      <td>2.000000</td>\n",
       "      <td>1365.500000</td>\n",
       "      <td>1.000000</td>\n",
       "      <td>2.000000</td>\n",
       "      <td>2.000000</td>\n",
       "      <td>0.000000</td>\n",
       "      <td>1.000000</td>\n",
       "      <td>2.000000</td>\n",
       "      <td>1.000000</td>\n",
       "      <td>27.000000</td>\n",
       "      <td>0.000000</td>\n",
       "      <td>1.000000</td>\n",
       "      <td>1.000000</td>\n",
       "      <td>1.00000</td>\n",
       "      <td>1.000000</td>\n",
       "      <td>0.000000</td>\n",
       "      <td>0.000000</td>\n",
       "      <td>1.000000</td>\n",
       "      <td>1.000000</td>\n",
       "      <td>1.000000</td>\n",
       "    </tr>\n",
       "    <tr>\n",
       "      <th>50%</th>\n",
       "      <td>1.000000</td>\n",
       "      <td>18.000000</td>\n",
       "      <td>2.000000</td>\n",
       "      <td>3.000000</td>\n",
       "      <td>2319.500000</td>\n",
       "      <td>1.000000</td>\n",
       "      <td>2.000000</td>\n",
       "      <td>3.000000</td>\n",
       "      <td>1.000000</td>\n",
       "      <td>1.000000</td>\n",
       "      <td>3.000000</td>\n",
       "      <td>2.000000</td>\n",
       "      <td>33.000000</td>\n",
       "      <td>0.000000</td>\n",
       "      <td>2.000000</td>\n",
       "      <td>1.000000</td>\n",
       "      <td>1.00000</td>\n",
       "      <td>1.000000</td>\n",
       "      <td>0.000000</td>\n",
       "      <td>0.000000</td>\n",
       "      <td>1.000000</td>\n",
       "      <td>1.000000</td>\n",
       "      <td>1.000000</td>\n",
       "    </tr>\n",
       "    <tr>\n",
       "      <th>75%</th>\n",
       "      <td>2.000000</td>\n",
       "      <td>24.000000</td>\n",
       "      <td>2.000000</td>\n",
       "      <td>4.000000</td>\n",
       "      <td>3972.250000</td>\n",
       "      <td>1.000000</td>\n",
       "      <td>4.000000</td>\n",
       "      <td>4.000000</td>\n",
       "      <td>1.000000</td>\n",
       "      <td>1.000000</td>\n",
       "      <td>4.000000</td>\n",
       "      <td>3.000000</td>\n",
       "      <td>42.000000</td>\n",
       "      <td>0.000000</td>\n",
       "      <td>2.000000</td>\n",
       "      <td>2.000000</td>\n",
       "      <td>1.00000</td>\n",
       "      <td>1.000000</td>\n",
       "      <td>1.000000</td>\n",
       "      <td>0.000000</td>\n",
       "      <td>2.000000</td>\n",
       "      <td>2.000000</td>\n",
       "      <td>1.000000</td>\n",
       "    </tr>\n",
       "    <tr>\n",
       "      <th>max</th>\n",
       "      <td>3.000000</td>\n",
       "      <td>72.000000</td>\n",
       "      <td>3.000000</td>\n",
       "      <td>11.000000</td>\n",
       "      <td>18424.000000</td>\n",
       "      <td>4.000000</td>\n",
       "      <td>4.000000</td>\n",
       "      <td>4.000000</td>\n",
       "      <td>1.000000</td>\n",
       "      <td>2.000000</td>\n",
       "      <td>4.000000</td>\n",
       "      <td>3.000000</td>\n",
       "      <td>75.000000</td>\n",
       "      <td>2.000000</td>\n",
       "      <td>2.000000</td>\n",
       "      <td>4.000000</td>\n",
       "      <td>2.00000</td>\n",
       "      <td>2.000000</td>\n",
       "      <td>1.000000</td>\n",
       "      <td>1.000000</td>\n",
       "      <td>2.000000</td>\n",
       "      <td>3.000000</td>\n",
       "      <td>1.000000</td>\n",
       "    </tr>\n",
       "  </tbody>\n",
       "</table>\n",
       "</div>"
      ],
      "text/plain": [
       "         Financial     Duration      History      Purpose        Amount  \\\n",
       "count  1000.000000  1000.000000  1000.000000  1000.000000   1000.000000   \n",
       "mean      1.001000    20.903000     1.415000     3.828000   3271.258000   \n",
       "std       0.957034    12.058814     1.003884     2.744439   2822.736876   \n",
       "min       0.000000     4.000000     0.000000     1.000000    250.000000   \n",
       "25%       0.000000    12.000000     0.000000     2.000000   1365.500000   \n",
       "50%       1.000000    18.000000     2.000000     3.000000   2319.500000   \n",
       "75%       2.000000    24.000000     2.000000     4.000000   3972.250000   \n",
       "max       3.000000    72.000000     3.000000    11.000000  18424.000000   \n",
       "\n",
       "              Bond   Employment  Installments       Gender   Guarantors  \\\n",
       "count  1000.000000  1000.000000   1000.000000  1000.000000  1000.000000   \n",
       "mean      1.190000     2.384000      2.973000     0.690000     1.011000   \n",
       "std       0.966869     1.208306      1.118715     0.462725     0.304913   \n",
       "min       0.000000     0.000000      1.000000     0.000000     0.000000   \n",
       "25%       1.000000     2.000000      2.000000     0.000000     1.000000   \n",
       "50%       1.000000     2.000000      3.000000     1.000000     1.000000   \n",
       "75%       1.000000     4.000000      4.000000     1.000000     1.000000   \n",
       "max       4.000000     4.000000      4.000000     1.000000     2.000000   \n",
       "\n",
       "         Residence     Property          Age  Installments2      Housing  \\\n",
       "count  1000.000000  1000.000000  1000.000000    1000.000000  1000.000000   \n",
       "mean      2.845000     1.642000    35.546000       0.233000     1.605000   \n",
       "std       1.103718     1.050209    11.375469       0.522479     0.674856   \n",
       "min       1.000000     0.000000    19.000000       0.000000     0.000000   \n",
       "25%       2.000000     1.000000    27.000000       0.000000     1.000000   \n",
       "50%       3.000000     2.000000    33.000000       0.000000     2.000000   \n",
       "75%       4.000000     3.000000    42.000000       0.000000     2.000000   \n",
       "max       4.000000     3.000000    75.000000       2.000000     2.000000   \n",
       "\n",
       "          Products         Job      Liabler    Telephone      Foreign  \\\n",
       "count  1000.000000  1000.00000  1000.000000  1000.000000  1000.000000   \n",
       "mean      1.407000     0.92600     1.155000     0.404000     0.037000   \n",
       "std       0.577654     0.60406     0.362086     0.490943     0.188856   \n",
       "min       1.000000     0.00000     1.000000     0.000000     0.000000   \n",
       "25%       1.000000     1.00000     1.000000     0.000000     0.000000   \n",
       "50%       1.000000     1.00000     1.000000     0.000000     0.000000   \n",
       "75%       2.000000     1.00000     1.000000     1.000000     0.000000   \n",
       "max       4.000000     2.00000     2.000000     1.000000     1.000000   \n",
       "\n",
       "           Default        Civil     Resident  \n",
       "count  1000.000000  1000.000000  1000.000000  \n",
       "mean      1.300000     1.502000     0.978000  \n",
       "std       0.458487     0.591901     0.146757  \n",
       "min       1.000000     1.000000     0.000000  \n",
       "25%       1.000000     1.000000     1.000000  \n",
       "50%       1.000000     1.000000     1.000000  \n",
       "75%       2.000000     2.000000     1.000000  \n",
       "max       2.000000     3.000000     1.000000  "
      ]
     },
     "execution_count": 11,
     "metadata": {},
     "output_type": "execute_result"
    }
   ],
   "source": [
    "german_data.describe()"
   ]
  },
  {
   "cell_type": "code",
   "execution_count": 12,
   "metadata": {
    "ExecuteTime": {
     "end_time": "2020-06-01T00:51:14.369951Z",
     "start_time": "2020-06-01T00:51:14.342633Z"
    }
   },
   "outputs": [
    {
     "name": "stdout",
     "output_type": "stream",
     "text": [
      "Transformed data shape is:  (1000, 23)\n"
     ]
    },
    {
     "data": {
      "text/html": [
       "<div>\n",
       "<style scoped>\n",
       "    .dataframe tbody tr th:only-of-type {\n",
       "        vertical-align: middle;\n",
       "    }\n",
       "\n",
       "    .dataframe tbody tr th {\n",
       "        vertical-align: top;\n",
       "    }\n",
       "\n",
       "    .dataframe thead th {\n",
       "        text-align: right;\n",
       "    }\n",
       "</style>\n",
       "<table border=\"1\" class=\"dataframe\">\n",
       "  <thead>\n",
       "    <tr style=\"text-align: right;\">\n",
       "      <th></th>\n",
       "      <th>Financial</th>\n",
       "      <th>Duration</th>\n",
       "      <th>History</th>\n",
       "      <th>Purpose</th>\n",
       "      <th>Amount</th>\n",
       "      <th>Bond</th>\n",
       "      <th>Employment</th>\n",
       "      <th>Installments</th>\n",
       "      <th>Gender</th>\n",
       "      <th>Guarantors</th>\n",
       "      <th>Residence</th>\n",
       "      <th>Property</th>\n",
       "      <th>Age</th>\n",
       "      <th>Installments2</th>\n",
       "      <th>Housing</th>\n",
       "      <th>Products</th>\n",
       "      <th>Job</th>\n",
       "      <th>Liabler</th>\n",
       "      <th>Telephone</th>\n",
       "      <th>Foreign</th>\n",
       "      <th>Default</th>\n",
       "      <th>Civil</th>\n",
       "      <th>Resident</th>\n",
       "    </tr>\n",
       "  </thead>\n",
       "  <tbody>\n",
       "    <tr>\n",
       "      <th>0</th>\n",
       "      <td>1</td>\n",
       "      <td>6</td>\n",
       "      <td>0</td>\n",
       "      <td>4</td>\n",
       "      <td>1169</td>\n",
       "      <td>0</td>\n",
       "      <td>4</td>\n",
       "      <td>4</td>\n",
       "      <td>1</td>\n",
       "      <td>1</td>\n",
       "      <td>4</td>\n",
       "      <td>3</td>\n",
       "      <td>67</td>\n",
       "      <td>0</td>\n",
       "      <td>2</td>\n",
       "      <td>2</td>\n",
       "      <td>1</td>\n",
       "      <td>1</td>\n",
       "      <td>1</td>\n",
       "      <td>0</td>\n",
       "      <td>1</td>\n",
       "      <td>1</td>\n",
       "      <td>1</td>\n",
       "    </tr>\n",
       "    <tr>\n",
       "      <th>1</th>\n",
       "      <td>2</td>\n",
       "      <td>48</td>\n",
       "      <td>2</td>\n",
       "      <td>4</td>\n",
       "      <td>5951</td>\n",
       "      <td>1</td>\n",
       "      <td>2</td>\n",
       "      <td>2</td>\n",
       "      <td>0</td>\n",
       "      <td>1</td>\n",
       "      <td>2</td>\n",
       "      <td>3</td>\n",
       "      <td>22</td>\n",
       "      <td>0</td>\n",
       "      <td>2</td>\n",
       "      <td>1</td>\n",
       "      <td>1</td>\n",
       "      <td>1</td>\n",
       "      <td>0</td>\n",
       "      <td>0</td>\n",
       "      <td>2</td>\n",
       "      <td>2</td>\n",
       "      <td>1</td>\n",
       "    </tr>\n",
       "  </tbody>\n",
       "</table>\n",
       "</div>"
      ],
      "text/plain": [
       "   Financial  Duration  History  Purpose  Amount  Bond  Employment  \\\n",
       "0          1         6        0        4    1169     0           4   \n",
       "1          2        48        2        4    5951     1           2   \n",
       "\n",
       "   Installments  Gender  Guarantors  Residence  Property  Age  Installments2  \\\n",
       "0             4       1           1          4         3   67              0   \n",
       "1             2       0           1          2         3   22              0   \n",
       "\n",
       "   Housing  Products  Job  Liabler  Telephone  Foreign  Default  Civil  \\\n",
       "0        2         2    1        1          1        0        1      1   \n",
       "1        2         1    1        1          0        0        2      2   \n",
       "\n",
       "   Resident  \n",
       "0         1  \n",
       "1         1  "
      ]
     },
     "execution_count": 12,
     "metadata": {},
     "output_type": "execute_result"
    }
   ],
   "source": [
    "print(\"Transformed data shape is: \", german_data.shape)\n",
    "german_data.head(2)"
   ]
  },
  {
   "cell_type": "code",
   "execution_count": 13,
   "metadata": {
    "ExecuteTime": {
     "end_time": "2020-06-01T00:51:14.398659Z",
     "start_time": "2020-06-01T00:51:14.375798Z"
    }
   },
   "outputs": [
    {
     "name": "stdout",
     "output_type": "stream",
     "text": [
      "<class 'pandas.core.frame.DataFrame'>\n",
      "RangeIndex: 1000 entries, 0 to 999\n",
      "Data columns (total 23 columns):\n",
      " #   Column         Non-Null Count  Dtype\n",
      "---  ------         --------------  -----\n",
      " 0   Financial      1000 non-null   int64\n",
      " 1   Duration       1000 non-null   int64\n",
      " 2   History        1000 non-null   int64\n",
      " 3   Purpose        1000 non-null   int64\n",
      " 4   Amount         1000 non-null   int64\n",
      " 5   Bond           1000 non-null   int64\n",
      " 6   Employment     1000 non-null   int64\n",
      " 7   Installments   1000 non-null   int64\n",
      " 8   Gender         1000 non-null   int64\n",
      " 9   Guarantors     1000 non-null   int64\n",
      " 10  Residence      1000 non-null   int64\n",
      " 11  Property       1000 non-null   int64\n",
      " 12  Age            1000 non-null   int64\n",
      " 13  Installments2  1000 non-null   int64\n",
      " 14  Housing        1000 non-null   int64\n",
      " 15  Products       1000 non-null   int64\n",
      " 16  Job            1000 non-null   int64\n",
      " 17  Liabler        1000 non-null   int64\n",
      " 18  Telephone      1000 non-null   int64\n",
      " 19  Foreign        1000 non-null   int64\n",
      " 20  Default        1000 non-null   int64\n",
      " 21  Civil          1000 non-null   int64\n",
      " 22  Resident       1000 non-null   int64\n",
      "dtypes: int64(23)\n",
      "memory usage: 179.8 KB\n"
     ]
    }
   ],
   "source": [
    "german_data.info()"
   ]
  },
  {
   "cell_type": "markdown",
   "metadata": {},
   "source": [
    "# Discrepancy"
   ]
  },
  {
   "cell_type": "markdown",
   "metadata": {},
   "source": [
    "It was found in the German dataset discrepancies leading us to misclassification and redundancy as shown below:\n",
    "\n",
    "For example:\n",
    "\n",
    "Foreign variable stores clients who do not hold a citizenship status. We found 963 clients encoded as the value of 0 that are foreigners.\n",
    "\n",
    "Resident variable stores clients who are permanent residents. This variable was created after another variable called Job and shows that only 22 clients who do not have a job and are non-resident, unemployed or unskilled. They were encoded as the value of 0.\n",
    "\n",
    "That is the only time that the word non-resident was used, leaving room for uncertainties. It is not explicitly stated who are resident or non-resident for other Job categories.\n",
    "\n",
    "At the end, the Job variable stores only data referring to work status. It reads 0 as being unemployed or unskilled clients."
   ]
  },
  {
   "cell_type": "code",
   "execution_count": 14,
   "metadata": {
    "ExecuteTime": {
     "end_time": "2020-06-01T00:51:14.414674Z",
     "start_time": "2020-06-01T00:51:14.403592Z"
    }
   },
   "outputs": [
    {
     "data": {
      "text/plain": [
       "1    978\n",
       "0     22\n",
       "Name: Resident, dtype: int64"
      ]
     },
     "execution_count": 14,
     "metadata": {},
     "output_type": "execute_result"
    }
   ],
   "source": [
    "german_data[\"Resident\"].value_counts()"
   ]
  },
  {
   "cell_type": "code",
   "execution_count": 15,
   "metadata": {
    "ExecuteTime": {
     "end_time": "2020-06-01T00:51:14.430492Z",
     "start_time": "2020-06-01T00:51:14.419230Z"
    }
   },
   "outputs": [
    {
     "data": {
      "text/plain": [
       "0    963\n",
       "1     37\n",
       "Name: Foreign, dtype: int64"
      ]
     },
     "execution_count": 15,
     "metadata": {},
     "output_type": "execute_result"
    }
   ],
   "source": [
    "german_data[\"Foreign\"].value_counts()"
   ]
  },
  {
   "cell_type": "code",
   "execution_count": 16,
   "metadata": {
    "ExecuteTime": {
     "end_time": "2020-06-01T00:51:14.450560Z",
     "start_time": "2020-06-01T00:51:14.440061Z"
    }
   },
   "outputs": [
    {
     "data": {
      "text/plain": [
       "1    630\n",
       "0    222\n",
       "2    148\n",
       "Name: Job, dtype: int64"
      ]
     },
     "execution_count": 16,
     "metadata": {},
     "output_type": "execute_result"
    }
   ],
   "source": [
    "german_data[\"Job\"].value_counts()"
   ]
  },
  {
   "cell_type": "markdown",
   "metadata": {},
   "source": [
    "# Splitting the data into Train and Test set"
   ]
  },
  {
   "cell_type": "code",
   "execution_count": 17,
   "metadata": {
    "ExecuteTime": {
     "end_time": "2020-06-01T00:51:14.483506Z",
     "start_time": "2020-06-01T00:51:14.458660Z"
    }
   },
   "outputs": [
    {
     "name": "stdout",
     "output_type": "stream",
     "text": [
      "X_train shape is:  (750, 22)\n",
      "X_test shape is:  (250, 22)\n",
      "y_train shape is:  (750,)\n",
      "y_test shape is:  (250,)\n"
     ]
    }
   ],
   "source": [
    "# Splitting the data into independent variables (X) and dependant variable (y)\n",
    "X = german_data.drop([\"Default\"], axis=1)\n",
    "y = german_data[\"Default\"]\n",
    "X_train, X_test, y_train, y_test = X.iloc[:750, :], X.iloc[750:, :], y.iloc[:750], y.iloc[750:]\n",
    "\n",
    "print(\"X_train shape is: \", X_train.shape) \n",
    "print(\"X_test shape is: \", X_test.shape) \n",
    "print(\"y_train shape is: \", y_train.shape) \n",
    "print(\"y_test shape is: \", y_test.shape)"
   ]
  },
  {
   "cell_type": "code",
   "execution_count": null,
   "metadata": {},
   "outputs": [],
   "source": []
  },
  {
   "cell_type": "markdown",
   "metadata": {},
   "source": [
    "# Checking Purity level of nodes using Decision Tree "
   ]
  },
  {
   "cell_type": "code",
   "execution_count": 18,
   "metadata": {
    "ExecuteTime": {
     "end_time": "2020-06-01T00:51:26.185288Z",
     "start_time": "2020-06-01T00:51:14.492385Z"
    }
   },
   "outputs": [
    {
     "data": {
      "image/png": "[encoded data removed]",
      "text/plain": [
       "<Figure size 432x288 with 1 Axes>"
      ]
     },
     "metadata": {
      "needs_background": "light"
     },
     "output_type": "display_data"
    }
   ],
   "source": [
    "\n",
    "num_trees = range(1, 100)\n",
    "scores = []\n",
    "for trees in num_trees:\n",
    "    rf = RandomForestClassifier(n_estimators = trees, random_state = 30)\n",
    "    rf.fit(X, y)\n",
    "    scores.append(rf.score(X, y))\n",
    "plt.plot(num_trees, scores);"
   ]
  },
  {
   "cell_type": "code",
   "execution_count": 19,
   "metadata": {
    "ExecuteTime": {
     "end_time": "2020-06-01T00:51:26.816474Z",
     "start_time": "2020-06-01T00:51:26.191309Z"
    }
   },
   "outputs": [
    {
     "name": "stdout",
     "output_type": "stream",
     "text": [
      "Accuracy Score on train data:  0.9266666666666666\n",
      "Accuracy Score on test data:  0.756\n"
     ]
    }
   ],
   "source": [
    "num_trees = range(1, 100)\n",
    "scores = []\n",
    "for trees in num_trees:\n",
    "    dt = DecisionTreeClassifier(criterion = 'entropy', min_samples_split=10)\n",
    "    dt.fit(X_train, y_train)\n",
    "    y_pred =  dt.predict(X_test)\n",
    "#     scores.append(clf.score(y_pred, y_test))\n",
    "# plt.plot(num_trees, scores);\n",
    "print('Accuracy Score on train data: ', accuracy_score(y_true=y_train, y_pred=dt.predict(X_train)))\n",
    "print('Accuracy Score on test data: ', accuracy_score(y_true=y_test, y_pred=y_pred))"
   ]
  },
  {
   "cell_type": "code",
   "execution_count": null,
   "metadata": {},
   "outputs": [],
   "source": []
  },
  {
   "cell_type": "markdown",
   "metadata": {},
   "source": [
    "## Feature Importance for future pruning"
   ]
  },
  {
   "cell_type": "code",
   "execution_count": 20,
   "metadata": {
    "ExecuteTime": {
     "end_time": "2020-06-01T00:51:27.222441Z",
     "start_time": "2020-06-01T00:51:26.833548Z"
    }
   },
   "outputs": [
    {
     "data": {
      "image/png": "[encoded data removed]",
      "text/plain": [
       "<Figure size 1080x360 with 1 Axes>"
      ]
     },
     "metadata": {
      "needs_background": "light"
     },
     "output_type": "display_data"
    }
   ],
   "source": [
    "skplt.estimators.plot_feature_importances(rf, figsize = (15, 5), x_tick_rotation = 50);"
   ]
  },
  {
   "cell_type": "code",
   "execution_count": null,
   "metadata": {},
   "outputs": [],
   "source": []
  },
  {
   "cell_type": "markdown",
   "metadata": {},
   "source": [
    "## Heat map stressing correlation analysis"
   ]
  },
  {
   "cell_type": "markdown",
   "metadata": {},
   "source": [
    "This analysis brings some expected correlated criteria and intriguing others:\n",
    "\n",
    "    1. Really Positive correlation between Credit Amount and the Duration of an existing checking account, \n",
    "    2. Medium Positive correlation between Property, Residence, and Housing as clients who own their houses have a property and do live there for a few years, as well as Job and Foreign as this is the most reasonable explanation for having a foreigner in the country (if not for study), \n",
    "    3. Weak Positive correlation between having a Job and a registered Telephone number,\n",
    "    4. Really Negative correlation between Civil status, Gender and Permanent Resident status; and surprisingly between Credit History and the number of products with the financial institution,\n",
    "    5. Weak Negative correlation between the Duration of the relationship, the Amount of money being administrated by the institution, and owning a Property."
   ]
  },
  {
   "cell_type": "code",
   "execution_count": 21,
   "metadata": {
    "ExecuteTime": {
     "end_time": "2020-06-01T00:51:27.883758Z",
     "start_time": "2020-06-01T00:51:27.226584Z"
    }
   },
   "outputs": [
    {
     "data": {
      "image/png": "[encoded data removed]",
      "text/plain": [
       "<Figure size 1080x720 with 2 Axes>"
      ]
     },
     "metadata": {
      "needs_background": "light"
     },
     "output_type": "display_data"
    }
   ],
   "source": [
    "dtset = german_data\n",
    "correlation = dtset.corr() # data correlation \n",
    "fig = plt.figure(figsize=(15, 10))\n",
    "ax = fig.add_subplot(212)\n",
    "sns.heatmap(correlation, ax=ax, cmap=\"coolwarm\", linewidths = 0.5)\n",
    "# fig.colorbar(cax)\n",
    "ticks = np.arange(0,len(dtset.columns),1)\n",
    "ax.set_xticks(ticks)\n",
    "plt.xticks(rotation=45)\n",
    "ax.set_yticks(ticks)\n",
    "ax.set_xticklabels(dtset.columns)\n",
    "ax.set_yticklabels(dtset.columns)\n",
    "plt.show()"
   ]
  },
  {
   "cell_type": "code",
   "execution_count": null,
   "metadata": {},
   "outputs": [],
   "source": []
  },
  {
   "cell_type": "markdown",
   "metadata": {},
   "source": [
    "## Correlation analysis with potentially biased variables removed"
   ]
  },
  {
   "cell_type": "markdown",
   "metadata": {},
   "source": [
    "Not much changed when we removed Gender, Foreign, and Resident variables. \n",
    "\n",
    "The feature correlation seems unnaltered.\n",
    "We need to bear in mind that this is a transformed dataset where each varaible was treated individually, so no great bias nor covariate interference was expected."
   ]
  },
  {
   "cell_type": "code",
   "execution_count": 22,
   "metadata": {
    "ExecuteTime": {
     "end_time": "2020-06-01T00:51:28.360299Z",
     "start_time": "2020-06-01T00:51:27.890216Z"
    }
   },
   "outputs": [
    {
     "data": {
      "image/png": "[encoded data removed]",
      "text/plain": [
       "<Figure size 1080x720 with 2 Axes>"
      ]
     },
     "metadata": {
      "needs_background": "light"
     },
     "output_type": "display_data"
    }
   ],
   "source": [
    "# Dropping potentially biased features\n",
    "\n",
    "dtset = german_data.drop(columns = [\"Gender\", \"Foreign\" ,\"Resident\"], axis=1)\n",
    "correlation = dtset.corr() # data correlation \n",
    "fig = plt.figure(figsize=(15, 10))\n",
    "ax = fig.add_subplot(212)\n",
    "sns.heatmap(correlation, ax=ax, cmap=\"coolwarm\", linewidths = 0.5)\n",
    "# fig.colorbar(cax)\n",
    "ticks = np.arange(0,len(dtset.columns),1)\n",
    "ax.set_xticks(ticks)\n",
    "plt.xticks(rotation=45)\n",
    "ax.set_yticks(ticks)\n",
    "ax.set_xticklabels(dtset.columns)\n",
    "ax.set_yticklabels(dtset.columns)\n",
    "plt.show()"
   ]
  },
  {
   "cell_type": "code",
   "execution_count": null,
   "metadata": {},
   "outputs": [],
   "source": []
  },
  {
   "cell_type": "markdown",
   "metadata": {},
   "source": [
    "# Feeding the dataset into ML algorithms and Hyperparameter tuning"
   ]
  },
  {
   "cell_type": "markdown",
   "metadata": {},
   "source": [
    "## Linear Regression test"
   ]
  },
  {
   "cell_type": "markdown",
   "metadata": {},
   "source": [
    "We are running a Linear Regression model for the sake of finding the intercept and coeficient in case we need to plot the linear relation of the dataset. Thus, no metrics such of logarithm loss nor root mean squared error will be considered."
   ]
  },
  {
   "cell_type": "code",
   "execution_count": 23,
   "metadata": {
    "ExecuteTime": {
     "end_time": "2020-06-01T00:51:28.388058Z",
     "start_time": "2020-06-01T00:51:28.370314Z"
    }
   },
   "outputs": [
    {
     "name": "stdout",
     "output_type": "stream",
     "text": [
      "Root Mean squared error:  0.4394888835675447\n",
      "Linear Interception in:  0.7057247947238433\n",
      "Coefficient:  [ 7.92600568e-02  4.51966421e-03  9.16540759e-02 -7.03973656e-03\n",
      "  1.58740889e-05 -1.91933199e-02 -4.16494661e-02  5.84597279e-02\n",
      " -1.11769841e-03 -1.53632558e-01  1.03106037e-02 -2.07485844e-02\n",
      " -9.16329417e-04  5.05725347e-02 -2.03002210e-02  8.61251416e-02\n",
      " -4.00286759e-04  8.65936023e-02 -7.39489686e-02 -1.12745473e-01\n",
      "  1.27579124e-01  4.73698954e-02]\n"
     ]
    }
   ],
   "source": [
    "lr = LinearRegression().fit(X_train, y_train)\n",
    "lr_pred = lr.predict(X_test)\n",
    "\n",
    "print(\"Root Mean squared error: \", np.sqrt(mean_squared_error(y_test, lr_pred)))\n",
    "print(\"Linear Interception in: \", lr.intercept_)\n",
    "print(\"Coefficient: \", lr.coef_)\n"
   ]
  },
  {
   "cell_type": "markdown",
   "metadata": {},
   "source": [
    "## Bagging"
   ]
  },
  {
   "cell_type": "markdown",
   "metadata": {},
   "source": [
    "The F1 score can be interpreted as a weighted average of the precision and recall, where an F1 score reaches its best value at 1 and worst score at 0. The relative contribution of precision and recall to the F1 score are equal.\n",
    "\n",
    "It is the ratio of True Positive values correctly classified."
   ]
  },
  {
   "cell_type": "code",
   "execution_count": 24,
   "metadata": {
    "ExecuteTime": {
     "end_time": "2020-06-01T01:01:20.266669Z",
     "start_time": "2020-06-01T00:51:28.399123Z"
    }
   },
   "outputs": [
    {
     "name": "stderr",
     "output_type": "stream",
     "text": [
      "/Users/speedy/anaconda3/lib/python3.7/site-packages/sklearn/ensemble/forest.py:504: UserWarning: class_weight presets \"balanced\" or \"balanced_subsample\" are not recommended for warm_start if the fitted data differs from the full dataset. In order to use \"balanced\" weights, use compute_class_weight(\"balanced\", classes, y). In place of y you can use a large enough sample of the full training set target to properly estimate the class frequency distributions. Pass the resulting weights as the class_weight parameter.\n",
      "  warn('class_weight presets \"balanced\" or \"balanced_subsample\" are '\n",
      "/Users/speedy/anaconda3/lib/python3.7/site-packages/joblib/externals/loky/process_executor.py:706: UserWarning: A worker stopped while some jobs were given to the executor. This can be caused by a too short worker timeout or by a memory leak.\n",
      "  \"timeout or by a memory leak.\", UserWarning\n"
     ]
    },
    {
     "name": "stdout",
     "output_type": "stream",
     "text": [
      "Accuracy of  RF :  0.78\n",
      "F-1 score of  RF :  0.8586118251928021\n",
      "Mean of  RF vanilla:  0.7506206733048838 \t\tstd: (+/-):  0.04410324900421229\n",
      "Mean of  RF bagging:  0.7133911806543385 \t\tstd: (+/-):  0.014736211833402542 \n",
      "\n"
     ]
    },
    {
     "name": "stderr",
     "output_type": "stream",
     "text": [
      "/Users/speedy/anaconda3/lib/python3.7/site-packages/joblib/externals/loky/process_executor.py:706: UserWarning: A worker stopped while some jobs were given to the executor. This can be caused by a too short worker timeout or by a memory leak.\n",
      "  \"timeout or by a memory leak.\", UserWarning\n"
     ]
    },
    {
     "name": "stdout",
     "output_type": "stream",
     "text": [
      "Accuracy of  ET :  0.752\n",
      "F-1 score of  ET :  0.8393782383419689\n",
      "Mean of  ET vanilla:  0.746692271218587 \t\tstd: (+/-):  0.033597490184698924\n",
      "Mean of  ET bagging:  0.7200398293029873 \t\tstd: (+/-):  0.0305804096471023 \n",
      "\n",
      "Accuracy of  KNN :  0.68\n",
      "F-1 score of  KNN :  0.7938144329896907\n",
      "Mean of  KNN vanilla:  0.6945817923186344 \t\tstd: (+/-):  0.04814372396045745\n",
      "Mean of  KNN bagging:  0.7026344238975818 \t\tstd: (+/-):  0.01093099784034985 \n",
      "\n"
     ]
    },
    {
     "name": "stderr",
     "output_type": "stream",
     "text": [
      "/Users/speedy/anaconda3/lib/python3.7/site-packages/sklearn/svm/base.py:193: FutureWarning: The default value of gamma will change from 'auto' to 'scale' in version 0.22 to account better for unscaled features. Set gamma explicitly to 'auto' or 'scale' to avoid this warning.\n",
      "  \"avoid this warning.\", FutureWarning)\n"
     ]
    },
    {
     "name": "stdout",
     "output_type": "stream",
     "text": [
      "Accuracy of  SVC :  0.692\n",
      "F-1 score of  SVC :  0.817966903073286\n",
      "Mean of  SVC vanilla:  0.7026880037932669 \t\tstd: (+/-):  0.0038498514623020426\n",
      "Mean of  SVC bagging:  0.7026880037932669 \t\tstd: (+/-):  0.0038498514623020426 \n",
      "\n",
      "Accuracy of  RG :  0.724\n",
      "F-1 score of  RG :  0.7876923076923077\n",
      "Mean of  RG vanilla:  0.6691014698909437 \t\tstd: (+/-):  0.04499722715853482\n",
      "Mean of  RG bagging:  0.674257942152679 \t\tstd: (+/-):  0.060203761128462346 \n",
      "\n",
      "Accuracy of  Ber :  0.708\n",
      "F-1 score of  Ber :  0.8113695090439277\n",
      "Mean of  Ber vanilla:  0.7106183025130394 \t\tstd: (+/-):  0.03512210502262882\n",
      "Mean of  Ber bagging:  0.7040398293029871 \t\tstd: (+/-):  0.008200397844364448 \n",
      "\n",
      "Accuracy of  Gau :  0.708\n",
      "F-1 score of  Gau :  0.8188585607940446\n",
      "Mean of  Gau vanilla:  0.7066339497392129 \t\tstd: (+/-):  0.032370695265905164\n",
      "Mean of  Gau bagging:  0.705176386913229 \t\tstd: (+/-):  0.03585724419691087 \n",
      "\n"
     ]
    }
   ],
   "source": [
    "# Get some classifiers to evaluate\n",
    "seed = 42\n",
    "\n",
    "# Create classifiers\n",
    "rf = RandomForestClassifier(n_estimators=200, random_state=seed, warm_start=True, class_weight=\"balanced\")\n",
    "\n",
    "et = ExtraTreesClassifier(n_estimators=200)\n",
    "\n",
    "knn = KNeighborsClassifier(n_neighbors=7, leaf_size=20, p=1, n_jobs=-1)\n",
    "\n",
    "svc = SVC()\n",
    "\n",
    "rg = RidgeClassifier(alpha=1.5, normalize=True, tol=0.01, class_weight=\"balanced\", solver=\"auto\", \n",
    "                     random_state=seed)\n",
    "\n",
    "ber = BernoulliNB(alpha=1.5, binarize=0.2)\n",
    "\n",
    "gau = GaussianNB(var_smoothing=0.2)\n",
    "\n",
    "clf_array = [rf, et, knn, svc, rg, ber, gau]\n",
    "labels = [\"RF\", \"ET\", \"KNN\", \"SVC\", \"RG\", \"Ber\", \"Gau\"]\n",
    "for clf, label in zip(clf_array, labels):\n",
    "    vanilla_scores = cross_val_score(clf, X_train, y_train, cv=10, n_jobs=-1)\n",
    "    bagging_clf = BaggingClassifier(clf, n_estimators=200, max_samples=0.2, max_features=10, random_state=seed)\n",
    "    clf = clf.fit(X_train, y_train)\n",
    "    clf_pred = clf.predict(X_test)\n",
    "    bagging_scores = cross_val_score(bagging_clf, X_train, y_train, cv=10, n_jobs=-1)\n",
    "    \n",
    "    print(\"Accuracy of \", label, \": \", accuracy_score(y_test, clf_pred))\n",
    "    print(\"F-1 score of \", label, \": \", f1_score(y_test, clf_pred))\n",
    "    print(\"Mean of \", label, \"vanilla: \", vanilla_scores.mean(),  \"\\t\\tstd: (+/-): \", vanilla_scores.std() )\n",
    "    print(\"Mean of \", label, \"bagging: \", bagging_scores.mean(), \"\\t\\tstd: (+/-): \", bagging_scores.std(), \"\\n\")"
   ]
  },
  {
   "cell_type": "markdown",
   "metadata": {},
   "source": [
    "## Boosting"
   ]
  },
  {
   "cell_type": "code",
   "execution_count": 25,
   "metadata": {
    "ExecuteTime": {
     "end_time": "2020-06-01T01:01:26.319068Z",
     "start_time": "2020-06-01T01:01:20.273407Z"
    }
   },
   "outputs": [
    {
     "name": "stdout",
     "output_type": "stream",
     "text": [
      "Mean: 0.748, std: (+/-) 0.040 [Ada Boost]\n",
      "Mean: 0.753, std: (+/-) 0.045 [Grad Boost]\n",
      "Mean: 0.753, std: (+/-) 0.026 [Ensemble]\n"
     ]
    }
   ],
   "source": [
    "\n",
    "ada_boost = AdaBoostClassifier()\n",
    "grad_boost = GradientBoostingClassifier()\n",
    "boost_array = [ada_boost, grad_boost]\n",
    "\n",
    "eclf = EnsembleVoteClassifier(clfs=[ada_boost, grad_boost], voting=\"hard\")\n",
    "labels = [\"Ada Boost\", \"Grad Boost\", \"Ensemble\"]\n",
    "for clf, label in zip([ada_boost, grad_boost, eclf], labels):\n",
    "    scores = cross_val_score(clf, X_train, y_train, cv=10, scoring=\"accuracy\")\n",
    "    print(\"Mean: {0:.3f}, std: (+/-) {1:.3f} [{2}]\".format(scores.mean(), \n",
    "                                                           scores.std(), label))\n"
   ]
  },
  {
   "cell_type": "code",
   "execution_count": null,
   "metadata": {},
   "outputs": [],
   "source": []
  },
  {
   "cell_type": "markdown",
   "metadata": {},
   "source": [
    "## Neural Networks"
   ]
  },
  {
   "cell_type": "code",
   "execution_count": 26,
   "metadata": {
    "ExecuteTime": {
     "end_time": "2020-06-01T01:06:56.188726Z",
     "start_time": "2020-06-01T01:01:26.338874Z"
    },
    "code_folding": []
   },
   "outputs": [
    {
     "name": "stdout",
     "output_type": "stream",
     "text": [
      "Train on 750 samples, validate on 250 samples\n",
      "Epoch 1/10\n",
      "750/750 [==============================] - 0s 550us/step - loss: 1.8229 - accuracy: 0.0000e+00 - val_loss: 1.7875 - val_accuracy: 0.0000e+00\n",
      "Epoch 2/10\n",
      "750/750 [==============================] - 0s 18us/step - loss: 1.7752 - accuracy: 0.0000e+00 - val_loss: 1.7402 - val_accuracy: 0.0000e+00\n",
      "Epoch 3/10\n",
      "750/750 [==============================] - 0s 12us/step - loss: 1.7283 - accuracy: 0.0000e+00 - val_loss: 1.6936 - val_accuracy: 0.0000e+00\n",
      "Epoch 4/10\n",
      "750/750 [==============================] - 0s 13us/step - loss: 1.6822 - accuracy: 0.0000e+00 - val_loss: 1.6478 - val_accuracy: 0.0000e+00\n",
      "Epoch 5/10\n",
      "750/750 [==============================] - 0s 10us/step - loss: 1.6369 - accuracy: 0.0000e+00 - val_loss: 1.6048 - val_accuracy: 0.0000e+00\n",
      "Epoch 6/10\n",
      "750/750 [==============================] - 0s 9us/step - loss: 1.5943 - accuracy: 0.0000e+00 - val_loss: 1.5607 - val_accuracy: 0.0000e+00\n",
      "Epoch 7/10\n",
      "750/750 [==============================] - 0s 9us/step - loss: 1.5506 - accuracy: 0.0000e+00 - val_loss: 1.5182 - val_accuracy: 0.0000e+00\n",
      "Epoch 8/10\n",
      "750/750 [==============================] - 0s 11us/step - loss: 1.5086 - accuracy: 0.0000e+00 - val_loss: 1.4762 - val_accuracy: 0.0000e+00\n",
      "Epoch 9/10\n",
      "750/750 [==============================] - 0s 7us/step - loss: 1.4671 - accuracy: 0.0000e+00 - val_loss: 1.4348 - val_accuracy: 0.0000e+00\n",
      "Epoch 10/10\n",
      "750/750 [==============================] - 0s 11us/step - loss: 1.4261 - accuracy: 0.0000e+00 - val_loss: 1.3938 - val_accuracy: 0.0000e+00\n",
      "<keras.callbacks.callbacks.History object at 0x7f836b2f95f8>\n",
      "Train on 750 samples, validate on 250 samples\n",
      "Epoch 1/10\n",
      "750/750 [==============================] - 0s 344us/step - loss: -0.5161 - accuracy: 0.7027 - val_loss: -0.5586 - val_accuracy: 0.6920\n",
      "Epoch 2/10\n",
      "750/750 [==============================] - 0s 9us/step - loss: -0.5420 - accuracy: 0.7027 - val_loss: -0.5970 - val_accuracy: 0.6920\n",
      "Epoch 3/10\n",
      "750/750 [==============================] - 0s 13us/step - loss: -0.5786 - accuracy: 0.7027 - val_loss: -0.6395 - val_accuracy: 0.6920\n",
      "Epoch 4/10\n",
      "750/750 [==============================] - 0s 7us/step - loss: -0.6174 - accuracy: 0.7027 - val_loss: -0.6881 - val_accuracy: 0.6920\n",
      "Epoch 5/10\n",
      "750/750 [==============================] - 0s 12us/step - loss: -0.6632 - accuracy: 0.7027 - val_loss: -0.7447 - val_accuracy: 0.6920\n",
      "Epoch 6/10\n",
      "750/750 [==============================] - 0s 9us/step - loss: -0.7166 - accuracy: 0.7027 - val_loss: -0.7910 - val_accuracy: 0.6920\n",
      "Epoch 7/10\n",
      "750/750 [==============================] - 0s 7us/step - loss: -0.7629 - accuracy: 0.7027 - val_loss: -0.8217 - val_accuracy: 0.6920\n",
      "Epoch 8/10\n",
      "750/750 [==============================] - 0s 7us/step - loss: -0.7913 - accuracy: 0.7027 - val_loss: -0.8501 - val_accuracy: 0.6920\n",
      "Epoch 9/10\n",
      "750/750 [==============================] - 0s 8us/step - loss: -0.8189 - accuracy: 0.7027 - val_loss: -0.8783 - val_accuracy: 0.6920\n",
      "Epoch 10/10\n",
      "750/750 [==============================] - 0s 8us/step - loss: -0.8463 - accuracy: 0.7027 - val_loss: -0.9067 - val_accuracy: 0.6920\n",
      "<keras.callbacks.callbacks.History object at 0x7f836be8d588>\n",
      "Train on 750 samples, validate on 250 samples\n",
      "Epoch 1/10\n",
      "750/750 [==============================] - 1s 778us/step - loss: 0.4787 - accuracy: 0.7027 - val_loss: 0.4232 - val_accuracy: 0.6920\n",
      "Epoch 2/10\n",
      "750/750 [==============================] - 0s 8us/step - loss: 0.4270 - accuracy: 0.7027 - val_loss: 0.3793 - val_accuracy: 0.6920\n",
      "Epoch 3/10\n",
      "750/750 [==============================] - 0s 22us/step - loss: 0.3837 - accuracy: 0.7027 - val_loss: 0.3294 - val_accuracy: 0.6920\n",
      "Epoch 4/10\n",
      "750/750 [==============================] - 0s 12us/step - loss: 0.3346 - accuracy: 0.7027 - val_loss: 0.2809 - val_accuracy: 0.6920\n",
      "Epoch 5/10\n",
      "750/750 [==============================] - 0s 11us/step - loss: 0.2868 - accuracy: 0.7027 - val_loss: 0.2670 - val_accuracy: 0.6920\n",
      "Epoch 6/10\n",
      "750/750 [==============================] - 0s 19us/step - loss: 0.2732 - accuracy: 0.7027 - val_loss: 0.2458 - val_accuracy: 0.6920\n",
      "Epoch 7/10\n",
      "750/750 [==============================] - 0s 15us/step - loss: 0.2523 - accuracy: 0.7027 - val_loss: 0.2233 - val_accuracy: 0.6920\n",
      "Epoch 8/10\n",
      "750/750 [==============================] - 0s 17us/step - loss: 0.2302 - accuracy: 0.7027 - val_loss: 0.2002 - val_accuracy: 0.6920\n",
      "Epoch 9/10\n",
      "750/750 [==============================] - 0s 25us/step - loss: 0.2074 - accuracy: 0.7027 - val_loss: 0.1768 - val_accuracy: 0.6920\n",
      "Epoch 10/10\n",
      "750/750 [==============================] - 0s 19us/step - loss: 0.1844 - accuracy: 0.7027 - val_loss: 0.1532 - val_accuracy: 0.6920\n",
      "<keras.callbacks.callbacks.History object at 0x7f836cfc9e48>\n",
      "Train on 750 samples, validate on 250 samples\n",
      "Epoch 1/10\n",
      "750/750 [==============================] - 0s 322us/step - loss: 0.6579 - accuracy: 0.7027 - val_loss: 0.6376 - val_accuracy: 0.6920\n",
      "Epoch 2/10\n",
      "750/750 [==============================] - 0s 10us/step - loss: 0.6383 - accuracy: 0.7027 - val_loss: 0.6149 - val_accuracy: 0.6920\n",
      "Epoch 3/10\n",
      "750/750 [==============================] - 0s 8us/step - loss: 0.6159 - accuracy: 0.7027 - val_loss: 0.5886 - val_accuracy: 0.6920\n",
      "Epoch 4/10\n",
      "750/750 [==============================] - 0s 7us/step - loss: 0.5899 - accuracy: 0.7027 - val_loss: 0.5624 - val_accuracy: 0.6920\n",
      "Epoch 5/10\n",
      "750/750 [==============================] - 0s 7us/step - loss: 0.5641 - accuracy: 0.7027 - val_loss: 0.5364 - val_accuracy: 0.6920\n",
      "Epoch 6/10\n",
      "750/750 [==============================] - 0s 8us/step - loss: 0.5385 - accuracy: 0.7027 - val_loss: 0.5114 - val_accuracy: 0.6920\n",
      "Epoch 7/10\n",
      "750/750 [==============================] - 0s 13us/step - loss: 0.5138 - accuracy: 0.7027 - val_loss: 0.4863 - val_accuracy: 0.6920\n",
      "Epoch 8/10\n",
      "750/750 [==============================] - 0s 10us/step - loss: 0.4891 - accuracy: 0.7027 - val_loss: 0.4612 - val_accuracy: 0.6920\n",
      "Epoch 9/10\n",
      "750/750 [==============================] - 0s 13us/step - loss: 0.4643 - accuracy: 0.7027 - val_loss: 0.4359 - val_accuracy: 0.6920\n",
      "Epoch 10/10\n",
      "750/750 [==============================] - 0s 10us/step - loss: 0.4393 - accuracy: 0.7027 - val_loss: 0.4107 - val_accuracy: 0.6920\n",
      "<keras.callbacks.callbacks.History object at 0x7f836bf44d30>\n",
      "Train on 750 samples, validate on 250 samples\n",
      "Epoch 1/10\n",
      "750/750 [==============================] - 0s 349us/step - loss: 0.0145 - accuracy: 0.7027 - val_loss: -0.0131 - val_accuracy: 0.6920\n",
      "Epoch 2/10\n",
      "750/750 [==============================] - 0s 8us/step - loss: -0.0021 - accuracy: 0.7027 - val_loss: -0.0326 - val_accuracy: 0.6920\n",
      "Epoch 3/10\n",
      "750/750 [==============================] - 0s 12us/step - loss: -0.0212 - accuracy: 0.7027 - val_loss: -0.0552 - val_accuracy: 0.6920\n",
      "Epoch 4/10\n",
      "750/750 [==============================] - 0s 8us/step - loss: -0.0434 - accuracy: 0.7027 - val_loss: -0.0777 - val_accuracy: 0.6920\n",
      "Epoch 5/10\n",
      "750/750 [==============================] - 0s 9us/step - loss: -0.0661 - accuracy: 0.7027 - val_loss: -0.1084 - val_accuracy: 0.6920\n",
      "Epoch 6/10\n",
      "750/750 [==============================] - 0s 8us/step - loss: -0.0924 - accuracy: 0.7027 - val_loss: -0.1413 - val_accuracy: 0.6920\n",
      "Epoch 7/10\n",
      "750/750 [==============================] - 0s 9us/step - loss: -0.1278 - accuracy: 0.7027 - val_loss: -0.1820 - val_accuracy: 0.6920\n",
      "Epoch 8/10\n",
      "750/750 [==============================] - 0s 8us/step - loss: -0.1643 - accuracy: 0.7027 - val_loss: -0.2310 - val_accuracy: 0.6920\n",
      "Epoch 9/10\n",
      "750/750 [==============================] - 0s 10us/step - loss: -0.2097 - accuracy: 0.7027 - val_loss: -0.2838 - val_accuracy: 0.6920\n",
      "Epoch 10/10\n",
      "750/750 [==============================] - 0s 11us/step - loss: -0.2568 - accuracy: 0.7027 - val_loss: -0.3250 - val_accuracy: 0.6920\n",
      "<keras.callbacks.callbacks.History object at 0x7f836b586da0>\n",
      "Train on 750 samples, validate on 250 samples\n",
      "Epoch 1/10\n",
      "750/750 [==============================] - 0s 327us/step - loss: 0.7887 - accuracy: 0.0147 - val_loss: 0.7450 - val_accuracy: 0.0080\n",
      "Epoch 2/10\n",
      "750/750 [==============================] - 0s 7us/step - loss: 0.7431 - accuracy: 0.0173 - val_loss: 0.6924 - val_accuracy: 0.0080\n",
      "Epoch 3/10\n",
      "750/750 [==============================] - 0s 8us/step - loss: 0.6914 - accuracy: 0.0213 - val_loss: 0.6375 - val_accuracy: 0.6920\n"
     ]
    },
    {
     "name": "stdout",
     "output_type": "stream",
     "text": [
      "Epoch 4/10\n",
      "750/750 [==============================] - 0s 8us/step - loss: 0.6378 - accuracy: 0.7027 - val_loss: 0.5821 - val_accuracy: 0.6920\n",
      "Epoch 5/10\n",
      "750/750 [==============================] - 0s 9us/step - loss: 0.5835 - accuracy: 0.7027 - val_loss: 0.5241 - val_accuracy: 0.6920\n",
      "Epoch 6/10\n",
      "750/750 [==============================] - 0s 11us/step - loss: 0.5268 - accuracy: 0.7027 - val_loss: 0.4686 - val_accuracy: 0.6920\n",
      "Epoch 7/10\n",
      "750/750 [==============================] - 0s 8us/step - loss: 0.4728 - accuracy: 0.7027 - val_loss: 0.4135 - val_accuracy: 0.6920\n",
      "Epoch 8/10\n",
      "750/750 [==============================] - 0s 9us/step - loss: 0.4194 - accuracy: 0.7027 - val_loss: 0.3594 - val_accuracy: 0.6920\n",
      "Epoch 9/10\n",
      "750/750 [==============================] - 0s 8us/step - loss: 0.3665 - accuracy: 0.7027 - val_loss: 0.3063 - val_accuracy: 0.6920\n",
      "Epoch 10/10\n",
      "750/750 [==============================] - 0s 8us/step - loss: 0.3145 - accuracy: 0.7027 - val_loss: 0.2538 - val_accuracy: 0.6920\n",
      "<keras.callbacks.callbacks.History object at 0x7f836d985f60>\n",
      "Train on 750 samples, validate on 250 samples\n",
      "Epoch 1/10\n",
      "750/750 [==============================] - 0s 324us/step - loss: -0.5155 - accuracy: 0.7027 - val_loss: -0.5663 - val_accuracy: 0.6920\n",
      "Epoch 2/10\n",
      "750/750 [==============================] - 0s 7us/step - loss: -0.5430 - accuracy: 0.7027 - val_loss: -0.5944 - val_accuracy: 0.6920\n",
      "Epoch 3/10\n",
      "750/750 [==============================] - 0s 7us/step - loss: -0.5703 - accuracy: 0.7027 - val_loss: -0.6197 - val_accuracy: 0.6920\n",
      "Epoch 4/10\n",
      "750/750 [==============================] - 0s 14us/step - loss: -0.5949 - accuracy: 0.7027 - val_loss: -0.6472 - val_accuracy: 0.6920\n",
      "Epoch 5/10\n",
      "750/750 [==============================] - 0s 10us/step - loss: -0.6218 - accuracy: 0.7027 - val_loss: -0.6746 - val_accuracy: 0.6920\n",
      "Epoch 6/10\n",
      "750/750 [==============================] - 0s 8us/step - loss: -0.6484 - accuracy: 0.7027 - val_loss: -0.7010 - val_accuracy: 0.6920\n",
      "Epoch 7/10\n",
      "750/750 [==============================] - 0s 15us/step - loss: -0.6740 - accuracy: 0.7027 - val_loss: -0.7279 - val_accuracy: 0.6920\n",
      "Epoch 8/10\n",
      "750/750 [==============================] - 0s 10us/step - loss: -0.7002 - accuracy: 0.7027 - val_loss: -0.7548 - val_accuracy: 0.6920\n",
      "Epoch 9/10\n",
      "750/750 [==============================] - 0s 12us/step - loss: -0.7263 - accuracy: 0.7027 - val_loss: -0.7812 - val_accuracy: 0.6920\n",
      "Epoch 10/10\n",
      "750/750 [==============================] - 0s 12us/step - loss: -0.7520 - accuracy: 0.7027 - val_loss: -0.8083 - val_accuracy: 0.6920\n",
      "<keras.callbacks.callbacks.History object at 0x7f836e2f5f60>\n",
      "Train on 750 samples, validate on 250 samples\n",
      "Epoch 1/10\n",
      "750/750 [==============================] - 0s 340us/step - loss: 0.8041 - accuracy: 0.0000e+00 - val_loss: 0.7646 - val_accuracy: 0.0000e+00\n",
      "Epoch 2/10\n",
      "750/750 [==============================] - 0s 7us/step - loss: 0.7636 - accuracy: 0.0000e+00 - val_loss: 0.7180 - val_accuracy: 0.0000e+00\n",
      "Epoch 3/10\n",
      "750/750 [==============================] - 0s 9us/step - loss: 0.7176 - accuracy: 0.0000e+00 - val_loss: 0.6695 - val_accuracy: 0.6920\n",
      "Epoch 4/10\n",
      "750/750 [==============================] - 0s 8us/step - loss: 0.6698 - accuracy: 0.7027 - val_loss: 0.6204 - val_accuracy: 0.6920\n",
      "Epoch 5/10\n",
      "750/750 [==============================] - 0s 7us/step - loss: 0.6214 - accuracy: 0.7027 - val_loss: 0.5713 - val_accuracy: 0.6920\n",
      "Epoch 6/10\n",
      "750/750 [==============================] - 0s 9us/step - loss: 0.5730 - accuracy: 0.7027 - val_loss: 0.5226 - val_accuracy: 0.6920\n",
      "Epoch 7/10\n",
      "750/750 [==============================] - 0s 10us/step - loss: 0.5250 - accuracy: 0.7027 - val_loss: 0.4745 - val_accuracy: 0.6920\n",
      "Epoch 8/10\n",
      "750/750 [==============================] - 0s 7us/step - loss: 0.4775 - accuracy: 0.7027 - val_loss: 0.4271 - val_accuracy: 0.6920\n",
      "Epoch 9/10\n",
      "750/750 [==============================] - 0s 8us/step - loss: 0.4309 - accuracy: 0.7027 - val_loss: 0.3801 - val_accuracy: 0.6920\n",
      "Epoch 10/10\n",
      "750/750 [==============================] - 0s 9us/step - loss: 0.3846 - accuracy: 0.7027 - val_loss: 0.3407 - val_accuracy: 0.6920\n",
      "<keras.callbacks.callbacks.History object at 0x7f836eae2f60>\n",
      "Train on 750 samples, validate on 250 samples\n",
      "Epoch 1/10\n",
      "750/750 [==============================] - 0s 350us/step - loss: 1.6511 - accuracy: 0.0000e+00 - val_loss: 1.6255 - val_accuracy: 0.0000e+00\n",
      "Epoch 2/10\n",
      "750/750 [==============================] - 0s 9us/step - loss: 1.6148 - accuracy: 0.0000e+00 - val_loss: 1.5895 - val_accuracy: 0.0000e+00\n",
      "Epoch 3/10\n",
      "750/750 [==============================] - 0s 8us/step - loss: 1.5791 - accuracy: 0.0000e+00 - val_loss: 1.5579 - val_accuracy: 0.0000e+00\n",
      "Epoch 4/10\n",
      "750/750 [==============================] - 0s 7us/step - loss: 1.5478 - accuracy: 0.0000e+00 - val_loss: 1.5244 - val_accuracy: 0.0000e+00\n",
      "Epoch 5/10\n",
      "750/750 [==============================] - 0s 7us/step - loss: 1.5147 - accuracy: 0.0000e+00 - val_loss: 1.4929 - val_accuracy: 0.0000e+00\n",
      "Epoch 6/10\n",
      "750/750 [==============================] - 0s 15us/step - loss: 1.4836 - accuracy: 0.0000e+00 - val_loss: 1.4606 - val_accuracy: 0.0000e+00\n",
      "Epoch 7/10\n",
      "750/750 [==============================] - 0s 9us/step - loss: 1.4516 - accuracy: 0.0000e+00 - val_loss: 1.4295 - val_accuracy: 0.0000e+00\n",
      "Epoch 8/10\n",
      "750/750 [==============================] - 0s 8us/step - loss: 1.4208 - accuracy: 0.0000e+00 - val_loss: 1.3983 - val_accuracy: 0.0000e+00\n",
      "Epoch 9/10\n",
      "750/750 [==============================] - 0s 10us/step - loss: 1.3900 - accuracy: 0.0000e+00 - val_loss: 1.3680 - val_accuracy: 0.0000e+00\n",
      "Epoch 10/10\n",
      "750/750 [==============================] - 0s 8us/step - loss: 1.3600 - accuracy: 0.0000e+00 - val_loss: 1.3379 - val_accuracy: 0.0000e+00\n",
      "<keras.callbacks.callbacks.History object at 0x7f836f2e3d68>\n",
      "Train on 750 samples, validate on 250 samples\n",
      "Epoch 1/10\n",
      "750/750 [==============================] - 0s 345us/step - loss: 0.8821 - accuracy: 0.0000e+00 - val_loss: 0.8753 - val_accuracy: 0.0000e+00\n",
      "Epoch 2/10\n",
      "750/750 [==============================] - 0s 8us/step - loss: 0.8730 - accuracy: 0.0000e+00 - val_loss: 0.8649 - val_accuracy: 0.0000e+00\n",
      "Epoch 3/10\n",
      "750/750 [==============================] - 0s 10us/step - loss: 0.8627 - accuracy: 0.0000e+00 - val_loss: 0.8529 - val_accuracy: 0.0000e+00\n",
      "Epoch 4/10\n",
      "750/750 [==============================] - 0s 8us/step - loss: 0.8508 - accuracy: 0.0000e+00 - val_loss: 0.8418 - val_accuracy: 0.0000e+00\n",
      "Epoch 5/10\n",
      "750/750 [==============================] - 0s 9us/step - loss: 0.8399 - accuracy: 0.0000e+00 - val_loss: 0.8306 - val_accuracy: 0.0000e+00\n",
      "Epoch 6/10\n",
      "750/750 [==============================] - 0s 9us/step - loss: 0.8288 - accuracy: 0.0000e+00 - val_loss: 0.8191 - val_accuracy: 0.0000e+00\n",
      "Epoch 7/10\n",
      "750/750 [==============================] - 0s 11us/step - loss: 0.8173 - accuracy: 0.0013 - val_loss: 0.8078 - val_accuracy: 0.0000e+00\n",
      "Epoch 8/10\n",
      "750/750 [==============================] - 0s 7us/step - loss: 0.8060 - accuracy: 0.0013 - val_loss: 0.7966 - val_accuracy: 0.0000e+00\n",
      "Epoch 9/10\n",
      "750/750 [==============================] - 0s 9us/step - loss: 0.7948 - accuracy: 0.0027 - val_loss: 0.7856 - val_accuracy: 0.0000e+00\n",
      "Epoch 10/10\n",
      "750/750 [==============================] - 0s 7us/step - loss: 0.7838 - accuracy: 0.0053 - val_loss: 0.7747 - val_accuracy: 0.0000e+00\n",
      "<keras.callbacks.callbacks.History object at 0x7f836be68b00>\n",
      "Baseline: 70.00% (0.00%)\n"
     ]
    }
   ],
   "source": [
    "# Binary Classification with Sonar Dataset: Baseline\n",
    "\n",
    "# baseline model\n",
    "def create_baseline():\n",
    "    # create model\n",
    "    model = Sequential()\n",
    "    model.add(Dense(22, input_dim=22, activation=\"tanh\"))\n",
    "    model.add(Dense(12, input_dim=22, activation=\"softplus\"))\n",
    "    model.add(Dense(6, input_dim=12, activation=\"relu\"))\n",
    "    model.add(Dense(1, activation=\"sigmoid\"))\n",
    "    \n",
    "    # Compile model\n",
    "    model.compile(loss='binary_crossentropy', optimizer='adam', metrics=['accuracy'])\n",
    "    # fit network\n",
    "    history = model.fit(X_train, y_train, epochs=10, verbose=1, batch_size=len(X_train), validation_data=(X_test, y_test), \n",
    "                            shuffle=False) # 1 or batch_size=len(X_train) is faster because it updates once every epoch\n",
    "    print(history)\n",
    "    return model\n",
    "\n",
    "\n",
    "# evaluate model with standardized dataset\n",
    "estimator = KerasClassifier(build_fn=create_baseline, epochs=100, batch_size=5, verbose=0)\n",
    "kfold = StratifiedKFold(n_splits=10, shuffle=True)\n",
    "results = cross_val_score(estimator, X, y, cv=kfold)\n",
    "\n",
    "print(\"Baseline: %.2f%% (%.2f%%)\" % (results.mean()*100, results.std()*100))"
   ]
  },
  {
   "cell_type": "code",
   "execution_count": null,
   "metadata": {},
   "outputs": [],
   "source": []
  },
  {
   "cell_type": "markdown",
   "metadata": {},
   "source": [
    "# Removing Potentially Biased Features"
   ]
  },
  {
   "cell_type": "code",
   "execution_count": 27,
   "metadata": {
    "ExecuteTime": {
     "end_time": "2020-06-01T01:06:56.215167Z",
     "start_time": "2020-06-01T01:06:56.192959Z"
    }
   },
   "outputs": [
    {
     "name": "stdout",
     "output_type": "stream",
     "text": [
      "X_train shape is:  (750, 19)\n",
      "X_test shape is:  (250, 19)\n",
      "y_train shape is:  (750,)\n",
      "y_test shape is:  (250,)\n"
     ]
    }
   ],
   "source": [
    "# Splitting the data into train and test\n",
    "\n",
    "X = german_data.drop([\"Default\", \"Gender\", \"Foreign\" ,\"Resident\"], axis=1)\n",
    "y = german_data[\"Default\"]\n",
    "X_train, X_test, y_train, y_test = X.iloc[:750, :], X.iloc[750:, :], y.iloc[:750], y.iloc[750:]\n",
    "\n",
    "print(\"X_train shape is: \", X_train.shape) \n",
    "print(\"X_test shape is: \", X_test.shape) \n",
    "print(\"y_train shape is: \", y_train.shape) \n",
    "print(\"y_test shape is: \", y_test.shape)"
   ]
  },
  {
   "cell_type": "code",
   "execution_count": null,
   "metadata": {},
   "outputs": [],
   "source": []
  },
  {
   "cell_type": "markdown",
   "metadata": {
    "ExecuteTime": {
     "end_time": "2020-05-31T17:09:31.221061Z",
     "start_time": "2020-05-31T17:09:31.214108Z"
    }
   },
   "source": [
    "## Linear Regression on potentially unbiased dataset"
   ]
  },
  {
   "cell_type": "code",
   "execution_count": 28,
   "metadata": {
    "ExecuteTime": {
     "end_time": "2020-06-01T01:06:56.238918Z",
     "start_time": "2020-06-01T01:06:56.225582Z"
    }
   },
   "outputs": [
    {
     "name": "stdout",
     "output_type": "stream",
     "text": [
      "Root Mean squared error:  0.44040200152003156\n",
      "Linear Interception in:  0.7307027308851038\n",
      "Coefficient:  [ 7.94563436e-02  4.70529176e-03  9.14964855e-02 -6.49771166e-03\n",
      "  1.57075507e-05 -1.89707238e-02 -4.01749117e-02  5.99296775e-02\n",
      " -1.54200613e-01  1.07964968e-02 -2.18157515e-02 -9.91450051e-04\n",
      "  5.24082283e-02 -1.95960178e-02  8.62849147e-02  3.10036074e-03\n",
      "  8.50116259e-02 -7.26432132e-02  1.29680752e-01]\n"
     ]
    }
   ],
   "source": [
    "lr = LinearRegression().fit(X_train, y_train)\n",
    "lr_pred = lr.predict(X_test)\n",
    "\n",
    "print(\"Root Mean squared error: \", np.sqrt(mean_squared_error(y_test, lr_pred)))\n",
    "print(\"Linear Interception in: \", lr.intercept_)\n",
    "print(\"Coefficient: \", lr.coef_)"
   ]
  },
  {
   "cell_type": "code",
   "execution_count": null,
   "metadata": {},
   "outputs": [],
   "source": []
  },
  {
   "cell_type": "markdown",
   "metadata": {},
   "source": [
    "## Bagging on potentially unbiased dataset"
   ]
  },
  {
   "cell_type": "code",
   "execution_count": 29,
   "metadata": {
    "ExecuteTime": {
     "end_time": "2020-06-01T01:16:17.674920Z",
     "start_time": "2020-06-01T01:06:56.243386Z"
    }
   },
   "outputs": [
    {
     "name": "stderr",
     "output_type": "stream",
     "text": [
      "/Users/speedy/anaconda3/lib/python3.7/site-packages/sklearn/ensemble/forest.py:504: UserWarning: class_weight presets \"balanced\" or \"balanced_subsample\" are not recommended for warm_start if the fitted data differs from the full dataset. In order to use \"balanced\" weights, use compute_class_weight(\"balanced\", classes, y). In place of y you can use a large enough sample of the full training set target to properly estimate the class frequency distributions. Pass the resulting weights as the class_weight parameter.\n",
      "  warn('class_weight presets \"balanced\" or \"balanced_subsample\" are '\n"
     ]
    },
    {
     "name": "stdout",
     "output_type": "stream",
     "text": [
      "Accuracy of  RF :  0.796\n",
      "F-1 score of  RF :  0.8668407310704961\n",
      "Mean of  RF vanilla:  0.7492332859174964 \t\tstd: (+/-):  0.04258862696853836\n",
      "Mean of  RF bagging:  0.7160398293029872 \t\tstd: (+/-):  0.02084808909483915 \n",
      "\n"
     ]
    },
    {
     "name": "stderr",
     "output_type": "stream",
     "text": [
      "/Users/speedy/anaconda3/lib/python3.7/site-packages/joblib/externals/loky/process_executor.py:706: UserWarning: A worker stopped while some jobs were given to the executor. This can be caused by a too short worker timeout or by a memory leak.\n",
      "  \"timeout or by a memory leak.\", UserWarning\n",
      "/Users/speedy/anaconda3/lib/python3.7/site-packages/joblib/externals/loky/process_executor.py:706: UserWarning: A worker stopped while some jobs were given to the executor. This can be caused by a too short worker timeout or by a memory leak.\n",
      "  \"timeout or by a memory leak.\", UserWarning\n"
     ]
    },
    {
     "name": "stdout",
     "output_type": "stream",
     "text": [
      "Accuracy of  ET :  0.744\n",
      "F-1 score of  ET :  0.8358974358974359\n",
      "Mean of  ET vanilla:  0.7520431484115695 \t\tstd: (+/-):  0.032647730814686575\n",
      "Mean of  ET bagging:  0.7306548127074443 \t\tstd: (+/-):  0.0339529182065215 \n",
      "\n",
      "Accuracy of  KNN :  0.672\n",
      "F-1 score of  KNN :  0.7886597938144329\n",
      "Mean of  KNN vanilla:  0.6958975817923185 \t\tstd: (+/-):  0.049091599946478555\n",
      "Mean of  KNN bagging:  0.7039857752489331 \t\tstd: (+/-):  0.011666473561880766 \n",
      "\n"
     ]
    },
    {
     "name": "stderr",
     "output_type": "stream",
     "text": [
      "/Users/speedy/anaconda3/lib/python3.7/site-packages/sklearn/svm/base.py:193: FutureWarning: The default value of gamma will change from 'auto' to 'scale' in version 0.22 to account better for unscaled features. Set gamma explicitly to 'auto' or 'scale' to avoid this warning.\n",
      "  \"avoid this warning.\", FutureWarning)\n"
     ]
    },
    {
     "name": "stdout",
     "output_type": "stream",
     "text": [
      "Accuracy of  SVC :  0.692\n",
      "F-1 score of  SVC :  0.817966903073286\n",
      "Mean of  SVC vanilla:  0.7026880037932669 \t\tstd: (+/-):  0.0038498514623020426\n",
      "Mean of  SVC bagging:  0.7026880037932669 \t\tstd: (+/-):  0.0038498514623020426 \n",
      "\n",
      "Accuracy of  RG :  0.708\n",
      "F-1 score of  RG :  0.7794561933534744\n",
      "Mean of  RG vanilla:  0.681280227596017 \t\tstd: (+/-):  0.043148036201140286\n",
      "Mean of  RG bagging:  0.673031768610716 \t\tstd: (+/-):  0.05880364264325468 \n",
      "\n",
      "Accuracy of  Ber :  0.716\n",
      "F-1 score of  Ber :  0.8146214099216711\n",
      "Mean of  Ber vanilla:  0.7239345661450924 \t\tstd: (+/-):  0.030329409123075864\n",
      "Mean of  Ber bagging:  0.7027064959696537 \t\tstd: (+/-):  0.018031375822667197 \n",
      "\n",
      "Accuracy of  Gau :  0.708\n",
      "F-1 score of  Gau :  0.8188585607940446\n",
      "Mean of  Gau vanilla:  0.7066339497392129 \t\tstd: (+/-):  0.032370695265905164\n",
      "Mean of  Gau bagging:  0.705176386913229 \t\tstd: (+/-):  0.03487821503223139 \n",
      "\n"
     ]
    }
   ],
   "source": [
    "# Get some classifiers to evaluate\n",
    "seed = 42\n",
    "\n",
    "# Create classifiers\n",
    "rf = RandomForestClassifier(n_estimators=200, random_state=seed, warm_start=True, class_weight=\"balanced\")\n",
    "\n",
    "et = ExtraTreesClassifier(n_estimators=200)\n",
    "\n",
    "knn = KNeighborsClassifier(n_neighbors=7, leaf_size=20, p=1, n_jobs=-1)\n",
    "\n",
    "svc = SVC()\n",
    "\n",
    "rg = RidgeClassifier(alpha=1.5, normalize=True, tol=0.01, class_weight=\"balanced\", solver=\"auto\", \n",
    "                     random_state=seed)\n",
    "\n",
    "ber = BernoulliNB(alpha=1.5, binarize=0.2)\n",
    "\n",
    "gau = GaussianNB(var_smoothing=0.2)\n",
    "\n",
    "clf_array = [rf, et, knn, svc, rg, ber, gau]\n",
    "labels = [\"RF\", \"ET\", \"KNN\", \"SVC\", \"RG\", \"Ber\", \"Gau\"]\n",
    "for clf, label in zip(clf_array, labels):\n",
    "    vanilla_scores = cross_val_score(clf, X_train, y_train, cv=10, n_jobs=-1)\n",
    "    bagging_clf = BaggingClassifier(clf, n_estimators=200, max_samples=0.2, max_features=10, random_state=seed)\n",
    "    clf = clf.fit(X_train, y_train)\n",
    "    clf_pred = clf.predict(X_test)\n",
    "    bagging_scores = cross_val_score(bagging_clf, X_train, y_train, cv=10, n_jobs=-1)\n",
    "    \n",
    "    print(\"Accuracy of \", label, \": \", accuracy_score(y_test, clf_pred))\n",
    "    print(\"F-1 score of \", label, \": \", f1_score(y_test, clf_pred))\n",
    "    print(\"Mean of \", label, \"vanilla: \", vanilla_scores.mean(),  \"\\t\\tstd: (+/-): \", vanilla_scores.std() )\n",
    "    print(\"Mean of \", label, \"bagging: \", bagging_scores.mean(), \"\\t\\tstd: (+/-): \", bagging_scores.std(), \"\\n\")\n",
    "    "
   ]
  },
  {
   "cell_type": "markdown",
   "metadata": {},
   "source": [
    "## Boosting Unbiased"
   ]
  },
  {
   "cell_type": "code",
   "execution_count": 30,
   "metadata": {
    "ExecuteTime": {
     "end_time": "2020-06-01T01:16:23.740082Z",
     "start_time": "2020-06-01T01:16:17.681348Z"
    }
   },
   "outputs": [
    {
     "name": "stdout",
     "output_type": "stream",
     "text": [
      "Mean: 0.742, std: (+/-) 0.045 [Ada Boost]\n",
      "Mean: 0.748, std: (+/-) 0.042 [Grad Boost]\n",
      "Mean: 0.748, std: (+/-) 0.031 [Ensemble]\n"
     ]
    }
   ],
   "source": [
    "ada_boost = AdaBoostClassifier()\n",
    "grad_boost = GradientBoostingClassifier()\n",
    "boost_array = [ada_boost, grad_boost]\n",
    "\n",
    "eclf = EnsembleVoteClassifier(clfs=[ada_boost, grad_boost], voting=\"hard\")\n",
    "labels = [\"Ada Boost\", \"Grad Boost\", \"Ensemble\"]\n",
    "for clf, label in zip([ada_boost, grad_boost, eclf], labels):\n",
    "    scores = cross_val_score(clf, X_train, y_train, cv=10, scoring=\"accuracy\")\n",
    "    print(\"Mean: {0:.3f}, std: (+/-) {1:.3f} [{2}]\".format(scores.mean(), \n",
    "                                                           scores.std(), label))\n",
    "# Let’s perform the same of voting on our boosting models"
   ]
  },
  {
   "cell_type": "markdown",
   "metadata": {},
   "source": [
    "## Neural Networks Unbiased"
   ]
  },
  {
   "cell_type": "code",
   "execution_count": 31,
   "metadata": {
    "ExecuteTime": {
     "end_time": "2020-06-01T01:21:42.467220Z",
     "start_time": "2020-06-01T01:16:23.760417Z"
    }
   },
   "outputs": [
    {
     "name": "stdout",
     "output_type": "stream",
     "text": [
      "Train on 750 samples, validate on 250 samples\n",
      "Epoch 1/10\n",
      "750/750 [==============================] - 0s 428us/step - loss: -0.9473 - accuracy: 0.7027 - val_loss: -1.0055 - val_accuracy: 0.6920\n",
      "Epoch 2/10\n",
      "750/750 [==============================] - 0s 7us/step - loss: -0.9695 - accuracy: 0.7027 - val_loss: -1.0364 - val_accuracy: 0.6920\n",
      "Epoch 3/10\n",
      "750/750 [==============================] - 0s 8us/step - loss: -0.9994 - accuracy: 0.7027 - val_loss: -1.0672 - val_accuracy: 0.6920\n",
      "Epoch 4/10\n",
      "750/750 [==============================] - 0s 8us/step - loss: -1.0293 - accuracy: 0.7027 - val_loss: -1.0981 - val_accuracy: 0.6920\n",
      "Epoch 5/10\n",
      "750/750 [==============================] - 0s 10us/step - loss: -1.0592 - accuracy: 0.7027 - val_loss: -1.1291 - val_accuracy: 0.6920\n",
      "Epoch 6/10\n",
      "750/750 [==============================] - 0s 9us/step - loss: -1.0892 - accuracy: 0.7027 - val_loss: -1.1601 - val_accuracy: 0.6920\n",
      "Epoch 7/10\n",
      "750/750 [==============================] - 0s 8us/step - loss: -1.1192 - accuracy: 0.7027 - val_loss: -1.1912 - val_accuracy: 0.6920\n",
      "Epoch 8/10\n",
      "750/750 [==============================] - 0s 14us/step - loss: -1.1493 - accuracy: 0.7027 - val_loss: -1.2224 - val_accuracy: 0.6920\n",
      "Epoch 9/10\n",
      "750/750 [==============================] - 0s 11us/step - loss: -1.1794 - accuracy: 0.7027 - val_loss: -1.2537 - val_accuracy: 0.6920\n",
      "Epoch 10/10\n",
      "750/750 [==============================] - 0s 10us/step - loss: -1.2097 - accuracy: 0.7027 - val_loss: -1.2852 - val_accuracy: 0.6920\n",
      "<keras.callbacks.callbacks.History object at 0x7f836e2ec5f8>\n",
      "Train on 750 samples, validate on 250 samples\n",
      "Epoch 1/10\n",
      "750/750 [==============================] - 0s 350us/step - loss: 2.2990 - accuracy: 0.0000e+00 - val_loss: 2.2461 - val_accuracy: 0.0000e+00\n",
      "Epoch 2/10\n",
      "750/750 [==============================] - 0s 7us/step - loss: 2.2286 - accuracy: 0.0000e+00 - val_loss: 2.1779 - val_accuracy: 0.0000e+00\n",
      "Epoch 3/10\n",
      "750/750 [==============================] - 0s 7us/step - loss: 2.1614 - accuracy: 0.0000e+00 - val_loss: 2.1111 - val_accuracy: 0.0000e+00\n",
      "Epoch 4/10\n",
      "750/750 [==============================] - 0s 6us/step - loss: 2.0963 - accuracy: 0.0000e+00 - val_loss: 2.0499 - val_accuracy: 0.0000e+00\n",
      "Epoch 5/10\n",
      "750/750 [==============================] - 0s 7us/step - loss: 2.0351 - accuracy: 0.0000e+00 - val_loss: 1.9925 - val_accuracy: 0.0000e+00\n",
      "Epoch 6/10\n",
      "750/750 [==============================] - 0s 6us/step - loss: 1.9787 - accuracy: 0.0000e+00 - val_loss: 1.9395 - val_accuracy: 0.0000e+00\n",
      "Epoch 7/10\n",
      "750/750 [==============================] - 0s 7us/step - loss: 1.9267 - accuracy: 0.0000e+00 - val_loss: 1.8871 - val_accuracy: 0.0000e+00\n",
      "Epoch 8/10\n",
      "750/750 [==============================] - 0s 7us/step - loss: 1.8749 - accuracy: 0.0000e+00 - val_loss: 1.8345 - val_accuracy: 0.0000e+00\n",
      "Epoch 9/10\n",
      "750/750 [==============================] - 0s 8us/step - loss: 1.8238 - accuracy: 0.0000e+00 - val_loss: 1.7820 - val_accuracy: 0.0000e+00\n",
      "Epoch 10/10\n",
      "750/750 [==============================] - 0s 7us/step - loss: 1.7725 - accuracy: 0.0000e+00 - val_loss: 1.7272 - val_accuracy: 0.0000e+00\n",
      "<keras.callbacks.callbacks.History object at 0x7f836eb295f8>\n",
      "Train on 750 samples, validate on 250 samples\n",
      "Epoch 1/10\n",
      "750/750 [==============================] - 0s 326us/step - loss: 0.5782 - accuracy: 0.7027 - val_loss: 0.5575 - val_accuracy: 0.6920\n",
      "Epoch 2/10\n",
      "750/750 [==============================] - 0s 8us/step - loss: 0.5578 - accuracy: 0.7027 - val_loss: 0.5095 - val_accuracy: 0.6920\n",
      "Epoch 3/10\n",
      "750/750 [==============================] - 0s 6us/step - loss: 0.5158 - accuracy: 0.7027 - val_loss: 0.4620 - val_accuracy: 0.6920\n",
      "Epoch 4/10\n",
      "750/750 [==============================] - 0s 7us/step - loss: 0.4690 - accuracy: 0.7027 - val_loss: 0.4205 - val_accuracy: 0.6920\n",
      "Epoch 5/10\n",
      "750/750 [==============================] - 0s 8us/step - loss: 0.4289 - accuracy: 0.7027 - val_loss: 0.3882 - val_accuracy: 0.6920\n",
      "Epoch 6/10\n",
      "750/750 [==============================] - 0s 13us/step - loss: 0.3959 - accuracy: 0.7027 - val_loss: 0.3624 - val_accuracy: 0.6920\n",
      "Epoch 7/10\n",
      "750/750 [==============================] - 0s 8us/step - loss: 0.3708 - accuracy: 0.7027 - val_loss: 0.3413 - val_accuracy: 0.6920\n",
      "Epoch 8/10\n",
      "750/750 [==============================] - 0s 7us/step - loss: 0.3493 - accuracy: 0.7027 - val_loss: 0.3231 - val_accuracy: 0.6920\n",
      "Epoch 9/10\n",
      "750/750 [==============================] - 0s 11us/step - loss: 0.3306 - accuracy: 0.7027 - val_loss: 0.3061 - val_accuracy: 0.6920\n",
      "Epoch 10/10\n",
      "750/750 [==============================] - 0s 7us/step - loss: 0.3136 - accuracy: 0.7027 - val_loss: 0.2898 - val_accuracy: 0.6920\n",
      "<keras.callbacks.callbacks.History object at 0x7f83706dff28>\n",
      "Train on 750 samples, validate on 250 samples\n",
      "Epoch 1/10\n",
      "750/750 [==============================] - 0s 313us/step - loss: 0.3459 - accuracy: 0.7027 - val_loss: 0.3102 - val_accuracy: 0.6920\n",
      "Epoch 2/10\n",
      "750/750 [==============================] - 0s 12us/step - loss: 0.3156 - accuracy: 0.7027 - val_loss: 0.2755 - val_accuracy: 0.6920\n",
      "Epoch 3/10\n",
      "750/750 [==============================] - 0s 8us/step - loss: 0.2815 - accuracy: 0.7027 - val_loss: 0.2395 - val_accuracy: 0.6920\n",
      "Epoch 4/10\n",
      "750/750 [==============================] - 0s 7us/step - loss: 0.2461 - accuracy: 0.7027 - val_loss: 0.2033 - val_accuracy: 0.6920\n",
      "Epoch 5/10\n",
      "750/750 [==============================] - 0s 8us/step - loss: 0.2105 - accuracy: 0.7027 - val_loss: 0.1672 - val_accuracy: 0.6920\n",
      "Epoch 6/10\n",
      "750/750 [==============================] - 0s 8us/step - loss: 0.1750 - accuracy: 0.7027 - val_loss: 0.1304 - val_accuracy: 0.6920\n",
      "Epoch 7/10\n",
      "750/750 [==============================] - 0s 7us/step - loss: 0.1388 - accuracy: 0.7027 - val_loss: 0.0953 - val_accuracy: 0.6920\n",
      "Epoch 8/10\n",
      "750/750 [==============================] - 0s 8us/step - loss: 0.1042 - accuracy: 0.7027 - val_loss: 0.0603 - val_accuracy: 0.6920\n",
      "Epoch 9/10\n",
      "750/750 [==============================] - 0s 7us/step - loss: 0.0697 - accuracy: 0.7027 - val_loss: 0.0264 - val_accuracy: 0.6920\n",
      "Epoch 10/10\n",
      "750/750 [==============================] - 0s 8us/step - loss: 0.0364 - accuracy: 0.7027 - val_loss: -0.0068 - val_accuracy: 0.6920\n",
      "<keras.callbacks.callbacks.History object at 0x7f83709f1da0>\n",
      "Train on 750 samples, validate on 250 samples\n",
      "Epoch 1/10\n",
      "750/750 [==============================] - 0s 304us/step - loss: 0.4673 - accuracy: 0.7027 - val_loss: 0.4478 - val_accuracy: 0.6920\n",
      "Epoch 2/10\n",
      "750/750 [==============================] - 0s 6us/step - loss: 0.4512 - accuracy: 0.7027 - val_loss: 0.4315 - val_accuracy: 0.6920\n",
      "Epoch 3/10\n",
      "750/750 [==============================] - 0s 7us/step - loss: 0.4351 - accuracy: 0.7027 - val_loss: 0.4165 - val_accuracy: 0.6920\n",
      "Epoch 4/10\n",
      "750/750 [==============================] - 0s 7us/step - loss: 0.4204 - accuracy: 0.7027 - val_loss: 0.4001 - val_accuracy: 0.6920\n",
      "Epoch 5/10\n",
      "750/750 [==============================] - 0s 9us/step - loss: 0.4042 - accuracy: 0.7027 - val_loss: 0.3835 - val_accuracy: 0.6920\n",
      "Epoch 6/10\n",
      "750/750 [==============================] - 0s 7us/step - loss: 0.3879 - accuracy: 0.7027 - val_loss: 0.3674 - val_accuracy: 0.6920\n",
      "Epoch 7/10\n",
      "750/750 [==============================] - 0s 8us/step - loss: 0.3721 - accuracy: 0.7027 - val_loss: 0.3508 - val_accuracy: 0.6920\n",
      "Epoch 8/10\n",
      "750/750 [==============================] - 0s 7us/step - loss: 0.3557 - accuracy: 0.7027 - val_loss: 0.3341 - val_accuracy: 0.6920\n",
      "Epoch 9/10\n",
      "750/750 [==============================] - 0s 8us/step - loss: 0.3392 - accuracy: 0.7027 - val_loss: 0.3173 - val_accuracy: 0.6920\n",
      "Epoch 10/10\n",
      "750/750 [==============================] - 0s 6us/step - loss: 0.3227 - accuracy: 0.7027 - val_loss: 0.3005 - val_accuracy: 0.6920\n",
      "<keras.callbacks.callbacks.History object at 0x7f83714d2dd8>\n",
      "Train on 750 samples, validate on 250 samples\n",
      "Epoch 1/10\n",
      "750/750 [==============================] - 0s 549us/step - loss: 0.6156 - accuracy: 0.7027 - val_loss: 0.6080 - val_accuracy: 0.6920\n",
      "Epoch 2/10\n",
      "750/750 [==============================] - 0s 14us/step - loss: 0.6092 - accuracy: 0.7027 - val_loss: 0.6014 - val_accuracy: 0.6920\n",
      "Epoch 3/10\n",
      "750/750 [==============================] - 0s 7us/step - loss: 0.6026 - accuracy: 0.7027 - val_loss: 0.5947 - val_accuracy: 0.6920\n"
     ]
    },
    {
     "name": "stdout",
     "output_type": "stream",
     "text": [
      "Epoch 4/10\n",
      "750/750 [==============================] - 0s 8us/step - loss: 0.5960 - accuracy: 0.7027 - val_loss: 0.5879 - val_accuracy: 0.6920\n",
      "Epoch 5/10\n",
      "750/750 [==============================] - 0s 7us/step - loss: 0.5894 - accuracy: 0.7027 - val_loss: 0.5811 - val_accuracy: 0.6920\n",
      "Epoch 6/10\n",
      "750/750 [==============================] - 0s 20us/step - loss: 0.5826 - accuracy: 0.7027 - val_loss: 0.5741 - val_accuracy: 0.6920\n",
      "Epoch 7/10\n",
      "750/750 [==============================] - 0s 12us/step - loss: 0.5757 - accuracy: 0.7027 - val_loss: 0.5671 - val_accuracy: 0.6920\n",
      "Epoch 8/10\n",
      "750/750 [==============================] - 0s 19us/step - loss: 0.5688 - accuracy: 0.7027 - val_loss: 0.5599 - val_accuracy: 0.6920\n",
      "Epoch 9/10\n",
      "750/750 [==============================] - 0s 13us/step - loss: 0.5617 - accuracy: 0.7027 - val_loss: 0.5527 - val_accuracy: 0.6920\n",
      "Epoch 10/10\n",
      "750/750 [==============================] - 0s 12us/step - loss: 0.5547 - accuracy: 0.7027 - val_loss: 0.5454 - val_accuracy: 0.6920\n",
      "<keras.callbacks.callbacks.History object at 0x7f8371d2ce48>\n",
      "Train on 750 samples, validate on 250 samples\n",
      "Epoch 1/10\n",
      "750/750 [==============================] - 0s 534us/step - loss: -0.0880 - accuracy: 0.7027 - val_loss: -0.1260 - val_accuracy: 0.6920\n",
      "Epoch 2/10\n",
      "750/750 [==============================] - 0s 6us/step - loss: -0.1128 - accuracy: 0.7027 - val_loss: -0.1594 - val_accuracy: 0.6920\n",
      "Epoch 3/10\n",
      "750/750 [==============================] - 0s 8us/step - loss: -0.1455 - accuracy: 0.7027 - val_loss: -0.1922 - val_accuracy: 0.6920\n",
      "Epoch 4/10\n",
      "750/750 [==============================] - 0s 23us/step - loss: -0.1777 - accuracy: 0.7027 - val_loss: -0.2224 - val_accuracy: 0.6920\n",
      "Epoch 5/10\n",
      "750/750 [==============================] - 0s 28us/step - loss: -0.2072 - accuracy: 0.7027 - val_loss: -0.2527 - val_accuracy: 0.6920\n",
      "Epoch 6/10\n",
      "750/750 [==============================] - 0s 20us/step - loss: -0.2369 - accuracy: 0.7027 - val_loss: -0.2829 - val_accuracy: 0.6920\n",
      "Epoch 7/10\n",
      "750/750 [==============================] - 0s 18us/step - loss: -0.2664 - accuracy: 0.7027 - val_loss: -0.3128 - val_accuracy: 0.6920\n",
      "Epoch 8/10\n",
      "750/750 [==============================] - 0s 27us/step - loss: -0.2956 - accuracy: 0.7027 - val_loss: -0.3424 - val_accuracy: 0.6920\n",
      "Epoch 9/10\n",
      "750/750 [==============================] - 0s 15us/step - loss: -0.3245 - accuracy: 0.7027 - val_loss: -0.3718 - val_accuracy: 0.6920\n",
      "Epoch 10/10\n",
      "750/750 [==============================] - 0s 15us/step - loss: -0.3533 - accuracy: 0.7027 - val_loss: -0.4008 - val_accuracy: 0.6920\n",
      "<keras.callbacks.callbacks.History object at 0x7f836b2e6908>\n",
      "Train on 750 samples, validate on 250 samples\n",
      "Epoch 1/10\n",
      "750/750 [==============================] - 0s 334us/step - loss: 0.0664 - accuracy: 0.7027 - val_loss: 0.0326 - val_accuracy: 0.6920\n",
      "Epoch 2/10\n",
      "750/750 [==============================] - 0s 11us/step - loss: 0.0432 - accuracy: 0.7027 - val_loss: 0.0102 - val_accuracy: 0.6920\n",
      "Epoch 3/10\n",
      "750/750 [==============================] - 0s 11us/step - loss: 0.0212 - accuracy: 0.7027 - val_loss: -0.0130 - val_accuracy: 0.6920\n",
      "Epoch 4/10\n",
      "750/750 [==============================] - 0s 6us/step - loss: -0.0016 - accuracy: 0.7027 - val_loss: -0.0352 - val_accuracy: 0.6920\n",
      "Epoch 5/10\n",
      "750/750 [==============================] - 0s 18us/step - loss: -0.0234 - accuracy: 0.7027 - val_loss: -0.0564 - val_accuracy: 0.6920\n",
      "Epoch 6/10\n",
      "750/750 [==============================] - 0s 15us/step - loss: -0.0442 - accuracy: 0.7027 - val_loss: -0.0785 - val_accuracy: 0.6920\n",
      "Epoch 7/10\n",
      "750/750 [==============================] - 0s 29us/step - loss: -0.0660 - accuracy: 0.7027 - val_loss: -0.1005 - val_accuracy: 0.6920\n",
      "Epoch 8/10\n",
      "750/750 [==============================] - 0s 18us/step - loss: -0.0876 - accuracy: 0.7027 - val_loss: -0.1221 - val_accuracy: 0.6920\n",
      "Epoch 9/10\n",
      "750/750 [==============================] - 0s 12us/step - loss: -0.1089 - accuracy: 0.7027 - val_loss: -0.1437 - val_accuracy: 0.6920\n",
      "Epoch 10/10\n",
      "750/750 [==============================] - 0s 13us/step - loss: -0.1301 - accuracy: 0.7027 - val_loss: -0.1652 - val_accuracy: 0.6920\n",
      "<keras.callbacks.callbacks.History object at 0x7f836eaf0f98>\n",
      "Train on 750 samples, validate on 250 samples\n",
      "Epoch 1/10\n",
      "750/750 [==============================] - 0s 291us/step - loss: 2.1333 - accuracy: 0.0000e+00 - val_loss: 2.1079 - val_accuracy: 0.0000e+00\n",
      "Epoch 2/10\n",
      "750/750 [==============================] - 0s 8us/step - loss: 2.0924 - accuracy: 0.0000e+00 - val_loss: 2.0672 - val_accuracy: 0.0000e+00\n",
      "Epoch 3/10\n",
      "750/750 [==============================] - 0s 6us/step - loss: 2.0521 - accuracy: 0.0000e+00 - val_loss: 2.0270 - val_accuracy: 0.0000e+00\n",
      "Epoch 4/10\n",
      "750/750 [==============================] - 0s 7us/step - loss: 2.0123 - accuracy: 0.0000e+00 - val_loss: 1.9874 - val_accuracy: 0.0000e+00\n",
      "Epoch 5/10\n",
      "750/750 [==============================] - 0s 7us/step - loss: 1.9731 - accuracy: 0.0000e+00 - val_loss: 1.9484 - val_accuracy: 0.0000e+00\n",
      "Epoch 6/10\n",
      "750/750 [==============================] - 0s 7us/step - loss: 1.9344 - accuracy: 0.0000e+00 - val_loss: 1.9099 - val_accuracy: 0.0000e+00\n",
      "Epoch 7/10\n",
      "750/750 [==============================] - 0s 7us/step - loss: 1.8964 - accuracy: 0.0000e+00 - val_loss: 1.8720 - val_accuracy: 0.0000e+00\n",
      "Epoch 8/10\n",
      "750/750 [==============================] - 0s 5us/step - loss: 1.8588 - accuracy: 0.0000e+00 - val_loss: 1.8430 - val_accuracy: 0.0000e+00\n",
      "Epoch 9/10\n",
      "750/750 [==============================] - 0s 7us/step - loss: 1.8301 - accuracy: 0.0000e+00 - val_loss: 1.8167 - val_accuracy: 0.0000e+00\n",
      "Epoch 10/10\n",
      "750/750 [==============================] - 0s 6us/step - loss: 1.8041 - accuracy: 0.0000e+00 - val_loss: 1.7901 - val_accuracy: 0.0000e+00\n",
      "<keras.callbacks.callbacks.History object at 0x7f836eb1afd0>\n",
      "Train on 750 samples, validate on 250 samples\n",
      "Epoch 1/10\n",
      "750/750 [==============================] - 0s 335us/step - loss: 0.5674 - accuracy: 0.7027 - val_loss: 0.5406 - val_accuracy: 0.6920\n",
      "Epoch 2/10\n",
      "750/750 [==============================] - 0s 8us/step - loss: 0.5427 - accuracy: 0.7027 - val_loss: 0.5158 - val_accuracy: 0.6920\n",
      "Epoch 3/10\n",
      "750/750 [==============================] - 0s 9us/step - loss: 0.5182 - accuracy: 0.7027 - val_loss: 0.4911 - val_accuracy: 0.6920\n",
      "Epoch 4/10\n",
      "750/750 [==============================] - 0s 7us/step - loss: 0.4939 - accuracy: 0.7027 - val_loss: 0.4667 - val_accuracy: 0.6920\n",
      "Epoch 5/10\n",
      "750/750 [==============================] - 0s 8us/step - loss: 0.4697 - accuracy: 0.7027 - val_loss: 0.4424 - val_accuracy: 0.6920\n",
      "Epoch 6/10\n",
      "750/750 [==============================] - 0s 8us/step - loss: 0.4458 - accuracy: 0.7027 - val_loss: 0.4191 - val_accuracy: 0.6920\n",
      "Epoch 7/10\n",
      "750/750 [==============================] - 0s 8us/step - loss: 0.4228 - accuracy: 0.7027 - val_loss: 0.3957 - val_accuracy: 0.6920\n",
      "Epoch 8/10\n",
      "750/750 [==============================] - 0s 12us/step - loss: 0.3997 - accuracy: 0.7027 - val_loss: 0.3720 - val_accuracy: 0.6920\n",
      "Epoch 9/10\n",
      "750/750 [==============================] - 0s 9us/step - loss: 0.3764 - accuracy: 0.7027 - val_loss: 0.3485 - val_accuracy: 0.6920\n",
      "Epoch 10/10\n",
      "750/750 [==============================] - 0s 9us/step - loss: 0.3533 - accuracy: 0.7027 - val_loss: 0.3253 - val_accuracy: 0.6920\n",
      "<keras.callbacks.callbacks.History object at 0x7f83714adef0>\n",
      "Baseline: 70.00% (0.00%)\n"
     ]
    }
   ],
   "source": [
    "# Binary Classification with Sonar Dataset: Baseline\n",
    "\n",
    "\n",
    "# baseline model\n",
    "def create_baseline():\n",
    "    # create model\n",
    "    model = Sequential()\n",
    "    model.add(Dense(19, input_dim=19, activation=\"tanh\"))\n",
    "    model.add(Dense(12, input_dim=19, activation=\"softplus\"))\n",
    "    model.add(Dense(6, input_dim=19, activation=\"relu\"))\n",
    "    model.add(Dense(1, activation=\"sigmoid\"))\n",
    "    \n",
    "    # Compile model\n",
    "    model.compile(loss='binary_crossentropy', optimizer='adam', metrics=['accuracy'])\n",
    "    # fit network\n",
    "    history = model.fit(X_train, y_train, epochs=10, verbose=1, batch_size=len(X_train), validation_data=(X_test, y_test), \n",
    "                            shuffle=False) # 1 or batch_size=len(X_train) is faster because it updates once every epoch\n",
    "    print(history)\n",
    "    return model\n",
    "\n",
    "\n",
    "# evaluate model with standardized dataset\n",
    "estimator = KerasClassifier(build_fn=create_baseline, epochs=100, batch_size=5, verbose=0)\n",
    "kfold = StratifiedKFold(n_splits=10, shuffle=True)\n",
    "results = cross_val_score(estimator, X, y, cv=kfold)\n",
    "\n",
    "print(\"Baseline: %.2f%% (%.2f%%)\" % (results.mean()*100, results.std()*100))"
   ]
  },
  {
   "cell_type": "code",
   "execution_count": null,
   "metadata": {},
   "outputs": [],
   "source": []
  },
  {
   "cell_type": "code",
   "execution_count": null,
   "metadata": {},
   "outputs": [],
   "source": []
  }
 ],
 "metadata": {
  "kernelspec": {
   "display_name": "Python 3",
   "language": "python",
   "name": "python3"
  },
  "language_info": {
   "codemirror_mode": {
    "name": "ipython",
    "version": 3
   },
   "file_extension": ".py",
   "mimetype": "text/x-python",
   "name": "python",
   "nbconvert_exporter": "python",
   "pygments_lexer": "ipython3",
   "version": "3.7.3"
  },
  "latex_envs": {
   "LaTeX_envs_menu_present": true,
   "autoclose": false,
   "autocomplete": true,
   "bibliofile": "biblio.bib",
   "cite_by": "apalike",
   "current_citInitial": 1,
   "eqLabelWithNumbers": true,
   "eqNumInitial": 1,
   "hotkeys": {
    "equation": "Ctrl-E",
    "itemize": "Ctrl-I"
   },
   "labels_anchors": false,
   "latex_user_defs": false,
   "report_style_numbering": false,
   "user_envs_cfg": false
  },
  "toc": {
   "base_numbering": 1,
   "nav_menu": {},
   "number_sections": true,
   "sideBar": true,
   "skip_h1_title": false,
   "title_cell": "Table of Contents",
   "title_sidebar": "Contents",
   "toc_cell": true,
   "toc_position": {},
   "toc_section_display": true,
   "toc_window_display": false
  }
 },
 "nbformat": 4,
 "nbformat_minor": 2
}
